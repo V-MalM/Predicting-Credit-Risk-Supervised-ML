{
 "cells": [
  {
   "cell_type": "markdown",
   "source": [
    "# Predicting Credit Risk\r\n",
    "**Supervised Machine Learning**\r\n",
    "\r\n",
    "## Objective \r\n",
    "* To build a machine learning model that attempts to predict whether a loan from LendingClub will become high risk or not.\r\n",
    "\r\n",
    "## Background\r\n",
    "LendingClub is a peer-to-peer lending services company that allows individual investors to partially fund personal loans as well as buy and sell notes backing the loans on a secondary market. LendingClub offers their previous data through an API.\r\n",
    "Task was to use this data to create machine learning models to classify the risk level of given loans. Specifically, would be comparing the Logistic Regression model and Random Forest Classifier.\r\n",
    "___________________________________________________________________________________________________\r\n",
    "## Dowloaded the latest version of datasets from [https://resources.lendingclub.com](https://resources.lendingclub.com)\r\n",
    "#### Retrieved and prepared the data using [GenerateData.ipynb](Resources/Generator/GenerateData.ipynb)\r\n",
    "\r\n",
    "GenerateData.ipynb does the following\r\n",
    "\r\n",
    "* Reads the csv files that has been dowloaded from LendingClub.  \r\n",
    "\r\n",
    "* Cleans the data and creates two CSVs that have been undersampled to give an evennumber of high risk and low risk loans.\r\n",
    "   \r\n",
    "    * 2019loans.csv  \r\n",
    "    * 2020Q1loans.csv\r\n",
    "\r\n",
    "In the original dataset, only 2.2% of loans are categorized as high risk. To get a truly accurate model, special techniques need to be used on imbalanced data. Undersampling is one of those techniques.\r\n",
    "\r\n",
    "```python\r\n",
    "low_risk_rows.sample(n=len(high_risk_rows), random_state=42)\r\n",
    "```\r\n",
    "    \r\n",
    "Note : The newer version of csv's are slightly different compared to older version that was already available in the folder.\r\n",
    "\r\n",
    "## In this Notebook ('Credit Risk Evaluator.ipynb')\r\n",
    "* We are using an entire year's worth of data (2019) to predict the credit risk of loans from the first quarter of the next year (2020).\r\n",
    "\r\n",
    "## Logistic regression Vs. Random Forests Classifier\r\n",
    "\r\n",
    "Both the models are popular in machine learning. They are both efficient in generating reliable models for predictive modelling.\r\n",
    "\r\n",
    "* Logistic regression is less complex, and less prone to over-fitting. \r\n",
    "* It does not require any parameters to tune.\r\n",
    "* It performs best with scaled data.  \r\n",
    "<br />\r\n",
    "\r\n",
    "* Random Forest uses Decision trees that can be scaled to be complex, and hence more liable to over-fit. Pruning is applied to avoid this.\r\n",
    "* Although default parameters may work fine, Random Forests work best when they are tuned by applying parametes.\r\n",
    "* Random Forsests perfoms well with unscaled data. \r\n",
    "\r\n",
    "When creating a predictive model, both the techniques should be tried and the best performing model should be used.\r\n",
    "\r\n",
    "## A prediction as to which model will perform better before I created, fit, and scored the models. \r\n",
    "I predict Logistic regression will perform better because it works best for binany classification problems. The data in question has binary out put belonging to one class or the other (High Risk, Low Risk)\r\n",
    "\r\n",
    "**LET's FIND OUT**\r\n",
    "\r\n",
    "Steps :\r\n",
    "1. Converted categorical data to numeric and separated target feature for training data and testing data\r\n",
    "2. Encoded target values using class sklearn.preprocessing.LabelEncoder\r\n",
    "3. Added missing dummy variables to testing set\r\n",
    "4. Trained the Logistic Regression model on the unscaled data and printed the model score\r\n",
    "    * Adjusted hyperparameters on LR model on unscaled data to see if the score improves .\r\n",
    "        * Tried a few combinations to tune\r\n",
    "        * It did improve the Testing Data Score by 5%\r\n",
    "        * Takes longer execution time each time a parameter/parameters is/are changed\r\n",
    "6. Trained a Random Forest Classifier model on unscaled data and printed the model score  \r\n",
    "    * Adjusted hyperparameters to see if the score improves .  \r\n",
    "    To choose which hyperparameters to adjust, we could visualize with validation_curve, or conduct Exhaustive Grid Search. \r\n",
    "     * Used validation_curve and test the parameters 'n_estimators', 'max_depth', 'min_samples_split' by giving them a range of values.       \r\n",
    "     * Adjusted the Hyperparameters on RF Classifiers on unscaled data \r\n",
    "        * Tried a few combinations to tune\r\n",
    "        * It did NOT improve the Testing Data Score \r\n",
    "        * Takes longer execution time each time a parameter/parameters is/are changed\r\n",
    "## Results\r\n",
    "Unlike my prediction, The Random Forest Classifier performed far better then the logistic regression model on unscaled data.   \r\n",
    "2020 First Quarter score was : **0.4913317572892041** for Logistic regression model.  \r\n",
    "Random forest 2020 First Quarter score was : **0.67625426845285**\r\n",
    "## Revisit the Preprocessing: Scale the data\r\n",
    " * I predict that scaling data will considerably improve logistic regression model and it will outperform Random Forest Model. \r\n",
    " StandardScaler makes field values compareable by removing the mean and by scaling each feature/variable to unit variance.\r\n",
    " * We know that Random Forst Model is built on decision trees and ensemble methods that do not require feature scaling as they are not sensitive to the the variance in the data. Hence, we might not see significant improvement in Random Forest model.\r\n",
    "## Scaled Training and Testging sets using StandardScaler().fit_transform()\r\n",
    "## Trained the Logistic Regression model on the scaled data and printed the model score\r\n",
    "* Logistic regression model improved considerably after scaling the data.\r\n",
    "## Trained Random Forest Classifier model on the scaled data and printed the model score\r\n",
    "* Random Forest has no positive effect with scaled data. It did Not improve.\r\n",
    "* Logistice Regression outperformed random Forest Classifier.\r\n",
    "# Conclusions\r\n",
    "* After scaling the data, Logistic Regression outperformed Random Forest Classifier.\r\n",
    "## LogisticRegression Model Performed well on this Data and we can conclude that it is the right Model."
   ],
   "metadata": {}
  },
  {
   "cell_type": "code",
   "execution_count": 1,
   "source": [
    "import numpy as np\r\n",
    "import pandas as pd\r\n",
    "from pathlib import Path\r\n",
    "\r\n",
    "from sklearn.preprocessing import StandardScaler, LabelEncoder\r\n",
    "from sklearn.linear_model import LogisticRegression\r\n",
    "from sklearn.ensemble import RandomForestClassifier\r\n",
    "\r\n",
    "# To choose which hyperparameters to adjust, we could visualize with validation_curve\r\n",
    "from yellowbrick.model_selection import validation_curve\r\n",
    "\r\n",
    "# or conduct Exhaustive Grid Search.\r\n",
    "# from sklearn.model_selection import GridSearchCV #  \r\n"
   ],
   "outputs": [],
   "metadata": {}
  },
  {
   "cell_type": "code",
   "execution_count": 33,
   "source": [
    "# !pip install yellowbrick"
   ],
   "outputs": [],
   "metadata": {}
  },
  {
   "cell_type": "code",
   "execution_count": 2,
   "source": [
    "train_df = pd.read_csv(Path('Resources/2019loans.csv'))\r\n",
    "test_df = pd.read_csv(Path('Resources/2020Q1loans.csv'))"
   ],
   "outputs": [],
   "metadata": {}
  },
  {
   "cell_type": "code",
   "execution_count": 3,
   "source": [
    "# Convert categorical data to numeric and separate target feature for training data\r\n",
    "# separate target feature for training data\r\n",
    "X_train = train_df.drop('target', axis=1)\r\n",
    "y_train = train_df['target']\r\n",
    "\r\n",
    "# Convert categorical data to numeric\r\n",
    "X_train = pd.get_dummies(X_train)\r\n",
    "\r\n",
    "# encoding target values using class sklearn.preprocessing.LabelEncoder\r\n",
    "y_train = LabelEncoder().fit_transform(y_train)"
   ],
   "outputs": [],
   "metadata": {}
  },
  {
   "cell_type": "code",
   "execution_count": 4,
   "source": [
    "# print(X_train)\r\n",
    "# print(y_train)"
   ],
   "outputs": [],
   "metadata": {}
  },
  {
   "cell_type": "code",
   "execution_count": 5,
   "source": [
    "# Convert categorical data to numeric and separate target feature for testing data\r\n",
    "\r\n",
    "# separate target feature for testing data\r\n",
    "X_test = test_df.drop('target', axis=1)\r\n",
    "y_test = test_df['target']\r\n",
    "\r\n",
    "# Convert categorical data to numeric\r\n",
    "X_test = pd.get_dummies(X_test)\r\n",
    "\r\n",
    "# encoding target values using class sklearn.preprocessing.LabelEncoder\r\n",
    "y_test = LabelEncoder().fit_transform(y_test)"
   ],
   "outputs": [],
   "metadata": {}
  },
  {
   "cell_type": "code",
   "execution_count": 6,
   "source": [
    "# print(X_test)\r\n",
    "# print(y_test)"
   ],
   "outputs": [],
   "metadata": {}
  },
  {
   "cell_type": "code",
   "execution_count": 7,
   "source": [
    "# add missing dummy variables to testing set\r\n",
    "# Compare fields from train to test. If there is field in traning dataset that is not in testing set , add it to X_test\r\n",
    "for colmn in X_train.columns:\r\n",
    "    if colmn not in X_test.columns:\r\n",
    "        X_test[colmn] = 0\r\n",
    "     "
   ],
   "outputs": [],
   "metadata": {}
  },
  {
   "cell_type": "markdown",
   "source": [
    "### I predict Logistic regression will perform better because it works best for binany classification problems. The data in question has binary out put belonging to one class or the other (Low Risk or High Risk (1,0))  \r\n",
    "### Let's Find Out"
   ],
   "metadata": {}
  },
  {
   "cell_type": "markdown",
   "source": [
    "## Train the Logistic Regression model on the unscaled data and print the model score"
   ],
   "metadata": {}
  },
  {
   "cell_type": "code",
   "execution_count": 8,
   "source": [
    "# Train the Logistic Regression model on the unscaled data\r\n",
    "model_unscaled = LogisticRegression(max_iter=10000)\r\n",
    "model_unscaled.fit(X_train, y_train)\r\n",
    "\r\n",
    "LR_US_Tr_scr = model_unscaled.score(X_train, y_train)\r\n",
    "LR_US_Tst_scr = model_unscaled.score(X_test, y_test)\r\n",
    "# Print the model score\r\n",
    "print(f\"Training data scrore : {LR_US_Tr_scr}\")\r\n",
    "print(f\"Testing data scrore : {LR_US_Tst_scr}\")\r\n",
    "\r\n"
   ],
   "outputs": [
    {
     "output_type": "stream",
     "name": "stdout",
     "text": [
      "Training data scrore : 0.7245338264755741\n",
      "Testing data scrore : 0.44102968216443394\n"
     ]
    }
   ],
   "metadata": {}
  },
  {
   "cell_type": "markdown",
   "source": [
    "Adjusting hyperparameters to see if the score improves ."
   ],
   "metadata": {}
  },
  {
   "cell_type": "code",
   "execution_count": 9,
   "source": [
    "\r\n",
    "#model_unscaled = LogisticRegression(solver=\"saga\", max_iter=10000, C=3.2, penalty='l2')\r\n",
    "model_unscaled = LogisticRegression(solver=\"sag\", max_iter=10000, C=2.5, penalty='l2')\r\n",
    "model_unscaled.fit(X_train, y_train)\r\n",
    "\r\n",
    "LR_US_Tr_Par_scr = model_unscaled.score(X_train, y_train)\r\n",
    "LR_US_Tst_Par_scr = model_unscaled.score(X_test, y_test)\r\n",
    "\r\n",
    "# Print the model score\r\n",
    "print(f\"Training data scrore : {LR_US_Tr_Par_scr}\")\r\n",
    "print(f\"Testing data scrore : {LR_US_Tst_Par_scr}\")"
   ],
   "outputs": [
    {
     "output_type": "stream",
     "name": "stdout",
     "text": [
      "Training data scrore : 0.6311450146401603\n",
      "Testing data scrore : 0.4913317572892041\n"
     ]
    }
   ],
   "metadata": {}
  },
  {
   "cell_type": "code",
   "execution_count": 10,
   "source": [
    "print(LR_US_Tst_Par_scr - LR_US_Tst_scr)"
   ],
   "outputs": [
    {
     "output_type": "stream",
     "name": "stdout",
     "text": [
      "0.05030207512477014\n"
     ]
    }
   ],
   "metadata": {}
  },
  {
   "cell_type": "markdown",
   "source": [
    "#### Adjusting the Hyperparameters on LR model on unscaled data \r\n",
    "* Tried a few combinations to tune\r\n",
    "* It did improve the Testing Data Score by 5%\r\n",
    "* Takes longer execution time each time a parameter/parameters is/are changed\r\n"
   ],
   "metadata": {}
  },
  {
   "cell_type": "markdown",
   "source": [
    "## Train a Random Forest Classifier model on unscaled data and print the model score\r\n"
   ],
   "metadata": {}
  },
  {
   "cell_type": "code",
   "execution_count": 11,
   "source": [
    "# Train the Random Forest Classifier model on unscaled data\r\n",
    "model_unscaledRF = RandomForestClassifier()\r\n",
    "model_unscaledRF.fit(X_train, y_train)\r\n",
    "\r\n",
    "# Print the model score\r\n",
    "RF_US_Tr_scr  = model_unscaledRF.score(X_train, y_train)\r\n",
    "RF_US_Tst_scr = model_unscaledRF.score(X_test, y_test)\r\n",
    "\r\n",
    "\r\n",
    "print(f\"Training data scrore : {RF_US_Tr_scr}\")\r\n",
    "print(f\"Testing data scrore : {RF_US_Tst_scr}\")"
   ],
   "outputs": [
    {
     "output_type": "stream",
     "name": "stdout",
     "text": [
      "Training data scrore : 1.0\n",
      "Testing data scrore : 0.669424743892829\n"
     ]
    }
   ],
   "metadata": {}
  },
  {
   "cell_type": "markdown",
   "source": [
    "Adjusting hyperparameters to see if the score improves .  \r\n",
    "To choose which hyperparameters to adjust, we could visualize with validation_curve, or conduct Exhaustive Grid Search. Here we are using validation_curve and test the parameters 'n_estimators', 'max_depth', 'min_samples_split'by giving them a range of values. "
   ],
   "metadata": {}
  },
  {
   "cell_type": "code",
   "execution_count": 12,
   "source": [
    "print(validation_curve(model_unscaledRF, X_train, y_train, param_name=\"n_estimators\", n_jobs=-1,\r\n",
    "      param_range = [31,100,200,300], cv=3, scoring=\"accuracy\"))"
   ],
   "outputs": [
    {
     "output_type": "display_data",
     "data": {
      "image/png": "[encoded data removed]",
      "text/plain": [
       "<Figure size 576x396 with 1 Axes>"
      ]
     },
     "metadata": {}
    },
    {
     "output_type": "stream",
     "name": "stdout",
     "text": [
      "ValidationCurve(ax=<AxesSubplot:title={'center':'Validation Curve for RandomForestClassifier'}, xlabel='n_estimators', ylabel='score'>,\n",
      "                cv=3, estimator=RandomForestClassifier(), n_jobs=-1,\n",
      "                param_name='n_estimators',\n",
      "                param_range=array([ 31, 100, 200, 300]), scoring='accuracy')\n"
     ]
    }
   ],
   "metadata": {}
  },
  {
   "cell_type": "code",
   "execution_count": 13,
   "source": [
    "print(validation_curve(model_unscaledRF, X_train, y_train, param_name=\"max_depth\", n_jobs=-1,\r\n",
    "      param_range = [10,20,60,80], cv=3, scoring=\"accuracy\"))"
   ],
   "outputs": [
    {
     "output_type": "display_data",
     "data": {
      "image/png": "[encoded data removed]",
      "text/plain": [
       "<Figure size 576x396 with 1 Axes>"
      ]
     },
     "metadata": {}
    },
    {
     "output_type": "stream",
     "name": "stdout",
     "text": [
      "ValidationCurve(ax=<AxesSubplot:title={'center':'Validation Curve for RandomForestClassifier'}, xlabel='max_depth', ylabel='score'>,\n",
      "                cv=3, estimator=RandomForestClassifier(), n_jobs=-1,\n",
      "                param_name='max_depth', param_range=array([10, 20, 60, 80]),\n",
      "                scoring='accuracy')\n"
     ]
    }
   ],
   "metadata": {}
  },
  {
   "cell_type": "code",
   "execution_count": 14,
   "source": [
    "print(validation_curve(model_unscaledRF, X_train, y_train, param_name=\"min_samples_split\", n_jobs=-1,\r\n",
    "      param_range = [2,4,6,8,10], cv=3, scoring=\"accuracy\"))"
   ],
   "outputs": [
    {
     "output_type": "display_data",
     "data": {
      "image/png": "[encoded data removed]",
      "text/plain": [
       "<Figure size 576x396 with 1 Axes>"
      ]
     },
     "metadata": {}
    },
    {
     "output_type": "stream",
     "name": "stdout",
     "text": [
      "ValidationCurve(ax=<AxesSubplot:title={'center':'Validation Curve for RandomForestClassifier'}, xlabel='min_samples_split', ylabel='score'>,\n",
      "                cv=3, estimator=RandomForestClassifier(), n_jobs=-1,\n",
      "                param_name='min_samples_split',\n",
      "                param_range=array([ 2,  4,  6,  8, 10]), scoring='accuracy')\n"
     ]
    }
   ],
   "metadata": {}
  },
  {
   "cell_type": "code",
   "execution_count": 15,
   "source": [
    "# Train the Random Forest Classifier model on unscaled data using best parameters from validation_curve.\r\n",
    "model_unscaledRF = RandomForestClassifier(n_estimators=200, max_depth=60, min_samples_split=8)\r\n",
    "model_unscaledRF.fit(X_train, y_train)\r\n",
    "\r\n",
    "\r\n",
    "\r\n",
    "# Print the model score\r\n",
    "RF_US_Tr_Par_scr  = model_unscaledRF.score(X_train, y_train)\r\n",
    "RF_US_Tst_Par_scr = model_unscaledRF.score(X_test, y_test)\r\n",
    "\r\n",
    "\r\n",
    "print(f\"Training data scrore : {RF_US_Tr_Par_scr}\")\r\n",
    "print(f\"Testing data scrore : {RF_US_Tst_Par_scr}\")"
   ],
   "outputs": [
    {
     "output_type": "stream",
     "name": "stdout",
     "text": [
      "Training data scrore : 0.9980736631222068\n",
      "Testing data scrore : 0.6702127659574468\n"
     ]
    }
   ],
   "metadata": {}
  },
  {
   "cell_type": "code",
   "execution_count": 16,
   "source": [
    "\r\n",
    "model_unscaledRF = RandomForestClassifier(n_estimators=31)\r\n",
    "# model_unscaledRF = RandomForestClassifier(max_features=0.4, n_estimators = 31, min_samples_leaf=64)\r\n",
    "#model_unscaledRF = RandomForestClassifier(n_estimators = 31, oob_score = True,n_jobs = -1,random_state =1)\r\n",
    "model_unscaledRF.fit(X_train, y_train)\r\n",
    "\r\n",
    "# Print the model score\r\n",
    "RF_US_Tr_Par_scr  = model_unscaledRF.score(X_train, y_train)\r\n",
    "RF_US_Tst_Par_scr = model_unscaledRF.score(X_test, y_test)\r\n",
    "\r\n",
    "\r\n",
    "print(f\"Training data scrore : {RF_US_Tr_Par_scr}\")\r\n",
    "print(f\"Testing data scrore : {RF_US_Tst_Par_scr}\")"
   ],
   "outputs": [
    {
     "output_type": "stream",
     "name": "stdout",
     "text": [
      "Training data scrore : 0.9997688395746648\n",
      "Testing data scrore : 0.6765169424743893\n"
     ]
    }
   ],
   "metadata": {}
  },
  {
   "cell_type": "markdown",
   "source": [
    "**Tried a few parameters but the best score was for n_estimators=31**"
   ],
   "metadata": {}
  },
  {
   "cell_type": "code",
   "execution_count": 17,
   "source": [
    "print(RF_US_Tst_Par_scr - RF_US_Tst_scr)"
   ],
   "outputs": [
    {
     "output_type": "stream",
     "name": "stdout",
     "text": [
      "0.007092198581560294\n"
     ]
    }
   ],
   "metadata": {}
  },
  {
   "cell_type": "markdown",
   "source": [
    "#### Adjusting the Hyperparameters on RF Classifiers  on unscaled data \r\n",
    "* Tried a few combinations to tune\r\n",
    "* It did NOT improve the Testing Data Score \r\n",
    "* Takes longer execution time each time a parameter/parameters is/are changed"
   ],
   "metadata": {}
  },
  {
   "cell_type": "markdown",
   "source": [
    "## Results\r\n",
    "Unlike my prediction, The Random Forest Classifier performed far better then the logistic regression model.   \r\n",
    "2020 First Quarter score was : **0.4913317572892041** for Logistic regression model.  \r\n",
    "Random forest 2020 First Quarter score was : **0.67625426845285**"
   ],
   "metadata": {}
  },
  {
   "cell_type": "code",
   "execution_count": 26,
   "source": [
    "if (LR_US_Tst_Par_scr >= LR_US_Tst_scr):\r\n",
    "    LR_US_Tst_scr = LR_US_Tst_Par_scr\r\n",
    "if (RF_US_Tst_Par_scr >= RF_US_Tst_scr):\r\n",
    "    RF_US_Tst_scr = RF_US_Tst_Par_scr    \r\n",
    "if (LR_US_Tr_Par_scr >= LR_US_Tr_scr):\r\n",
    "    LR_US_Tr_scr = LR_US_Tr_Par_scr\r\n",
    "if (RF_US_Tr_Par_scr >= RF_US_Tr_scr):\r\n",
    "    RF_US_Tr_scr = RF_US_Tr_Par_scr        \r\n",
    "\r\n",
    "pd.DataFrame(data=[[LR_US_Tst_scr,RF_US_Tst_scr]], \r\n",
    "columns=['Logistic Reg UnScaled', 'Random Forest UnScaled'])"
   ],
   "outputs": [
    {
     "output_type": "execute_result",
     "data": {
      "text/html": [
       "<div>\n",
       "<style scoped>\n",
       "    .dataframe tbody tr th:only-of-type {\n",
       "        vertical-align: middle;\n",
       "    }\n",
       "\n",
       "    .dataframe tbody tr th {\n",
       "        vertical-align: top;\n",
       "    }\n",
       "\n",
       "    .dataframe thead th {\n",
       "        text-align: right;\n",
       "    }\n",
       "</style>\n",
       "<table border=\"1\" class=\"dataframe\">\n",
       "  <thead>\n",
       "    <tr style=\"text-align: right;\">\n",
       "      <th></th>\n",
       "      <th>Logistic Reg UnScaled</th>\n",
       "      <th>Random Forest UnScaled</th>\n",
       "    </tr>\n",
       "  </thead>\n",
       "  <tbody>\n",
       "    <tr>\n",
       "      <th>0</th>\n",
       "      <td>0.491332</td>\n",
       "      <td>0.676517</td>\n",
       "    </tr>\n",
       "  </tbody>\n",
       "</table>\n",
       "</div>"
      ],
      "text/plain": [
       "   Logistic Reg UnScaled  Random Forest UnScaled\n",
       "0               0.491332                0.676517"
      ]
     },
     "metadata": {},
     "execution_count": 26
    }
   ],
   "metadata": {}
  },
  {
   "cell_type": "markdown",
   "source": [
    "# Revisit the Preprocessing: Scale the data\r\n",
    " * I predict that scaling data will considerably improve logistic regression model and it will outperform Random Forest Model. \r\n",
    " StandardScaler makes field values compareable by removing the mean and by scaling each feature/variable to unit variance.\r\n",
    " * We know that Random Forst Model is built on decision trees and ensemble methods that do not require feature scaling as they are not sensitive to the the variance in the data. Hence, we might not see significant improvement in Random Forest model.\r\n"
   ],
   "metadata": {}
  },
  {
   "cell_type": "code",
   "execution_count": 20,
   "source": [
    "# Data before scaling\r\n",
    "#X_train"
   ],
   "outputs": [],
   "metadata": {}
  },
  {
   "cell_type": "code",
   "execution_count": 21,
   "source": [
    "X_train_scaled = StandardScaler().fit_transform(X_train)\r\n",
    "# display(X_train_scaled)\r\n",
    "\r\n",
    "X_test_scaled = StandardScaler().fit_transform(X_test)\r\n",
    "# display(X_test_scaled)"
   ],
   "outputs": [],
   "metadata": {}
  },
  {
   "cell_type": "code",
   "execution_count": 22,
   "source": [
    "# Data after scaling\r\n",
    "#X_train_scaled"
   ],
   "outputs": [],
   "metadata": {}
  },
  {
   "cell_type": "markdown",
   "source": [
    "## Train the Logistic Regression model on the scaled data and print the model score\r\n"
   ],
   "metadata": {}
  },
  {
   "cell_type": "code",
   "execution_count": 23,
   "source": [
    "model_scaledLR = LogisticRegression(solver=\"sag\", max_iter=10000, C=2.5, penalty='l2')\r\n",
    "model_scaledLR.fit(X_train_scaled, y_train)\r\n",
    "\r\n",
    "# Print the model score\r\n",
    "LR_S_Tr_scr  = model_scaledLR.score(X_train_scaled, y_train)\r\n",
    "LR_S_Tst_scr = model_scaledLR.score(X_test_scaled, y_test)\r\n",
    "\r\n",
    "\r\n",
    "print(f\"Training data scrore : {LR_S_Tr_scr}\")\r\n",
    "print(f\"Testing data scrore : {LR_S_Tst_scr}\")\r\n",
    "\r\n",
    "# model_scaledLR.score(X_test_scaled, y_test)"
   ],
   "outputs": [
    {
     "output_type": "stream",
     "name": "stdout",
     "text": [
      "Training data scrore : 0.7320850670365233\n",
      "Testing data scrore : 0.7542684528500131\n"
     ]
    }
   ],
   "metadata": {}
  },
  {
   "cell_type": "markdown",
   "source": [
    " * Logistic regression model improved considerably after scaling the data."
   ],
   "metadata": {}
  },
  {
   "cell_type": "markdown",
   "source": [
    "## Train a Random Forest Classifier model on the scaled data and print the model score"
   ],
   "metadata": {}
  },
  {
   "cell_type": "code",
   "execution_count": 30,
   "source": [
    "model_scaledRF = RandomForestClassifier(n_estimators=31)\r\n",
    "model_scaledRF.fit(X_train_scaled, y_train)\r\n",
    "# model_scaledRF.score(X_test_scaled, y_test)\r\n",
    "\r\n",
    "\r\n",
    "# Print the model score\r\n",
    "RF_S_Tr_scr  = model_scaledRF.score(X_train_scaled, y_train)\r\n",
    "RF_S_Tst_scr = model_scaledRF.score(X_test_scaled, y_test)\r\n",
    "\r\n",
    "\r\n",
    "print(f\"Training data scrore : {RF_S_Tr_scr}\")\r\n",
    "print(f\"Testing data scrore : {RF_S_Tst_scr}\")"
   ],
   "outputs": [
    {
     "output_type": "stream",
     "name": "stdout",
     "text": [
      "Training data scrore : 0.9997688395746648\n",
      "Testing data scrore : 0.6111111111111112\n"
     ]
    }
   ],
   "metadata": {}
  },
  {
   "cell_type": "markdown",
   "source": [
    "* Random Forest has no positive effect with scaled data. It did Not improve.\r\n",
    "* Logistice Regression outperformed random Forest Classifier."
   ],
   "metadata": {}
  },
  {
   "cell_type": "code",
   "execution_count": 31,
   "source": [
    "final_results = pd.DataFrame(\r\n",
    "    data={'Dataset':['2019loans(Training)', '2020Q1loans(Testing)'], \\\r\n",
    "    'Logistic Reg UnScaled':[LR_US_Tr_scr,LR_US_Tst_scr],\\\r\n",
    "    'Random Forest UnScaled':[RF_US_Tr_scr,RF_US_Tst_scr],\\\r\n",
    "    'Logistic Reg Scaled':[LR_S_Tr_scr,LR_S_Tst_scr],\\\r\n",
    "    'Random Forest Scaled':[RF_S_Tr_scr,RF_S_Tst_scr]\\\r\n",
    "    })\r\n",
    "final_results    "
   ],
   "outputs": [
    {
     "output_type": "execute_result",
     "data": {
      "text/html": [
       "<div>\n",
       "<style scoped>\n",
       "    .dataframe tbody tr th:only-of-type {\n",
       "        vertical-align: middle;\n",
       "    }\n",
       "\n",
       "    .dataframe tbody tr th {\n",
       "        vertical-align: top;\n",
       "    }\n",
       "\n",
       "    .dataframe thead th {\n",
       "        text-align: right;\n",
       "    }\n",
       "</style>\n",
       "<table border=\"1\" class=\"dataframe\">\n",
       "  <thead>\n",
       "    <tr style=\"text-align: right;\">\n",
       "      <th></th>\n",
       "      <th>Dataset</th>\n",
       "      <th>Logistic Reg UnScaled</th>\n",
       "      <th>Random Forest UnScaled</th>\n",
       "      <th>Logistic Reg Scaled</th>\n",
       "      <th>Random Forest Scaled</th>\n",
       "    </tr>\n",
       "  </thead>\n",
       "  <tbody>\n",
       "    <tr>\n",
       "      <th>0</th>\n",
       "      <td>2019loans(Training)</td>\n",
       "      <td>0.724534</td>\n",
       "      <td>1.000000</td>\n",
       "      <td>0.732085</td>\n",
       "      <td>0.999769</td>\n",
       "    </tr>\n",
       "    <tr>\n",
       "      <th>1</th>\n",
       "      <td>2020Q1loans(Testing)</td>\n",
       "      <td>0.491332</td>\n",
       "      <td>0.676517</td>\n",
       "      <td>0.754268</td>\n",
       "      <td>0.611111</td>\n",
       "    </tr>\n",
       "  </tbody>\n",
       "</table>\n",
       "</div>"
      ],
      "text/plain": [
       "                Dataset  Logistic Reg UnScaled  Random Forest UnScaled  \\\n",
       "0   2019loans(Training)               0.724534                1.000000   \n",
       "1  2020Q1loans(Testing)               0.491332                0.676517   \n",
       "\n",
       "   Logistic Reg Scaled  Random Forest Scaled  \n",
       "0             0.732085              0.999769  \n",
       "1             0.754268              0.611111  "
      ]
     },
     "metadata": {},
     "execution_count": 31
    }
   ],
   "metadata": {}
  },
  {
   "cell_type": "markdown",
   "source": [
    "# Conclusions\r\n",
    "* After scaling the data, Logistic Regression outperformed Random Forest Classifier.\r\n",
    "## LogisticRegression Model performed well on this Data"
   ],
   "metadata": {}
  }
 ],
 "metadata": {
  "kernelspec": {
   "name": "python3",
   "display_name": "Python 3.8.5 64-bit ('base': conda)"
  },
  "language_info": {
   "codemirror_mode": {
    "name": "ipython",
    "version": 3
   },
   "file_extension": ".py",
   "mimetype": "text/x-python",
   "name": "python",
   "nbconvert_exporter": "python",
   "pygments_lexer": "ipython3",
   "version": "3.8.5"
  },
  "interpreter": {
   "hash": "eb0a5deb85624cf39522bd9ea766efe3b585b85d5e69ded4a98e5c69611b9570"
  }
 },
 "nbformat": 4,
 "nbformat_minor": 4
}