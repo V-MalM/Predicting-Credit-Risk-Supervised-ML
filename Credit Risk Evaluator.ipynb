{
 "cells": [
  {
   "cell_type": "markdown",
   "metadata": {},
   "source": [
    "# Predicting Credit Risk\n",
    "**Supervised Machine Learning**\n",
    "\n",
    "## Objective \n",
    "* To build a machine learning model that attempts to predict whether a loan from LendingClub will become high risk or not.\n",
    "\n",
    "## Background\n",
    "LendingClub is a peer-to-peer lending services company that allows individual investors to partially fund personal loans as well as buy and sell notes backing the loans on a secondary market. LendingClub offers their previous data through an API.\n",
    "Task was to use this data to create machine learning models to classify the risk level of given loans. Specifically, would be comparing the Logistic Regression model and Random Forest Classifier.\n",
    "___________________________________________________________________________________________________\n",
    "## Dowloaded the latest version of datasets from [https://resources.lendingclub.com](https://resources.lendingclub.com)\n",
    "#### Retrieved and prepared the data using [GenerateData.ipynb](Resources/Generator/GenerateData.ipynb)\n",
    "\n",
    "GenerateData.ipynb does the following\n",
    "\n",
    "* Reads the csv files that has been dowloaded from LendingClub.  \n",
    "\n",
    "* Cleans the data and creates two CSVs that have been undersampled to give an evennumber of high risk and low risk loans.\n",
    "   \n",
    "    * 2019loans.csv  \n",
    "    * 2020Q1loans.csv\n",
    "\n",
    "In the original dataset, only 2.2% of loans are categorized as high risk. To get a truly accurate model, special techniques need to be used on imbalanced data. Undersampling is one of those techniques.\n",
    "\n",
    "```python\n",
    "low_risk_rows.sample(n=len(high_risk_rows), random_state=42)\n",
    "```\n",
    "    \n",
    "Note : The newer version of csv's are slightly different compared to older version that was already available in the folder.\n",
    "\n",
    "## In this Notebook ('Credit Risk Evaluator.ipynb')\n",
    "* We are using an entire year's worth of data (2019) to predict the credit risk of loans from the first quarter of the next year (2020).\n",
    "\n",
    "## Logistic regression Vs. Random Forests Classifier\n",
    "\n",
    "Both the models are popular in machine learning. They are both efficient in generating reliable models for predictive modelling.\n",
    "\n",
    "* Logistic regression is less complex, and less prone to over-fitting. \n",
    "* It does not really have any critical parameters to tune.\n",
    "* It performs best with scaled data.  \n",
    "<br />\n",
    "\n",
    "* Random Forest uses Decision trees that can be scaled to be complex, and hence more liable to over-fit. Pruning is applied to avoid this.\n",
    "* Although default parameters may work fine, Random Forests work best when they are tuned by applying parametes.\n",
    "* Random Forsests perfoms well with unscaled data. \n",
    "\n",
    "When creating a predictive model, both the techniques should be tried and the best performing model should be used.\n",
    "\n",
    "## A prediction as to which model will perform better before I created, fit, and scored the models. \n",
    "I predict Logistic regression will perform better because it works best for binany classification problems. The data in question has binary output belonging to one class or the other (High Risk, Low Risk).  \n",
    "However, there are a number of categorical and explanatory variables in the dataset that might make Random Forest a better predictor. \n",
    "I still stick with Logical Regression.\n",
    "\n",
    "**LET's FIND OUT**\n",
    "\n",
    "Steps :\n",
    "1. Converted categorical data to numeric and separated target feature for training data and testing data\n",
    "2. Encoded target values using class sklearn.preprocessing.LabelEncoder\n",
    "3. Added missing dummy variables to testing set\n",
    "4. Trained the Logistic Regression model on the unscaled data and printed the model score\n",
    "    * Adjusted hyperparameters on LR model on unscaled data to see if the score improves .\n",
    "        * Tried a few combinations to tune\n",
    "        * It did improve the Testing Data Score by 5%\n",
    "        * Takes longer execution time each time a parameter/parameters is/are changed\n",
    "6. Trained a Random Forest Classifier model on unscaled data and printed the model score  \n",
    "    * Adjusted hyperparameters to see if the score improves .  \n",
    "    To choose which hyperparameters to adjust, we could visualize with validation_curve, or conduct Exhaustive Grid Search. \n",
    "     * Used validation_curve and test the parameters 'n_estimators', 'max_depth', 'min_samples_split' by giving them a range of values.       \n",
    "     * Adjusted the Hyperparameters on RF Classifiers on unscaled data \n",
    "        * Tried a few combinations to tune\n",
    "        * It did NOT improve the Testing Data Score \n",
    "        * Takes longer execution time each time a parameter/parameters is/are changed\n",
    "## Results\n",
    "Unlike my prediction, The Random Forest Classifier performed far better then the logistic regression model on unscaled data.   \n",
    "2020 First Quarter score was : **0.491332** for Logistic regression model.  \n",
    "Random forest 2020 First Quarter score was : **0.683609** \n",
    "\n",
    "## Revisit the Preprocessing: Scale the data  \n",
    "\n",
    " * I predict that scaling data will considerably improve logistic regression model and it will outperform Random Forest Model. \n",
    " StandardScaler makes field values compareable by removing the mean and by scaling each feature/variable to unit variance.\n",
    " * We know that Random Forst Model is built on decision trees and ensemble methods that do not require feature scaling as they are not sensitive to the the variance in the data. Hence, we might not see significant improvement in Random Forest model.  \n",
    "\n",
    "#### Scaled Training and Testging sets using StandardScaler().fit_transform()  \n",
    "\n",
    "#### Trained the Logistic Regression model on the scaled data and printed the model score  \n",
    "\n",
    "* Logistic regression model improved considerably after scaling the data.\n",
    "\n",
    "#### Trained Random Forest Classifier model on the scaled data and printed the model score \n",
    "\n",
    "* Random Forest's performance did not improve with scaled data.\n",
    "* Logistice Regression outperformed Random Forest Classifier.  \n",
    "\n",
    "#### Included the following for Both Models:\n",
    "\n",
    "* Confusion matrices and classification reports to give us information about precision and recall in addition to accuracy. \n",
    "\n",
    "* Added Feature importance in descending order to tell us which feature had the most influence in creating an accurate model.\n",
    "\n",
    "## Conclusions  \n",
    "\n",
    "* After scaling the data, Logistic Regression outperformed Random Forest Classifier.  \n",
    "    * 2020 First Quarter score for Logistic Regression : **0.754268** \n",
    "    * 2020 First Quarter score for Random Forest       : **0.613607**  \n",
    "    \n",
    "#### LogisticRegression Model Performed well on this Data and we can conclude that it is the right Model to predict whether a loan from LendingClub will become high risk or not."
   ]
  },
  {
   "cell_type": "code",
   "execution_count": 124,
   "metadata": {},
   "outputs": [],
   "source": [
    "import numpy as np\n",
    "import pandas as pd\n",
    "from pathlib import Path\n",
    "\n",
    "from sklearn.preprocessing import StandardScaler, LabelEncoder\n",
    "from sklearn.linear_model import LogisticRegression\n",
    "from sklearn.ensemble import RandomForestClassifier\n",
    "\n",
    "# To choose which hyperparameters to adjust, we could visualize with validation_curve\n",
    "from yellowbrick.model_selection import validation_curve\n",
    "\n",
    "# or conduct Exhaustive Grid Search.\n",
    "# from sklearn.model_selection import GridSearchCV\n",
    "\n",
    "from sklearn.metrics import confusion_matrix\n",
    "from sklearn.metrics import classification_report\n"
   ]
  },
  {
   "cell_type": "code",
   "execution_count": 125,
   "metadata": {},
   "outputs": [],
   "source": [
    "# !pip install yellowbrick"
   ]
  },
  {
   "cell_type": "code",
   "execution_count": 126,
   "metadata": {},
   "outputs": [],
   "source": [
    "train_df = pd.read_csv(Path('Resources/2019loans.csv'))\n",
    "test_df = pd.read_csv(Path('Resources/2020Q1loans.csv'))"
   ]
  },
  {
   "cell_type": "code",
   "execution_count": 127,
   "metadata": {},
   "outputs": [],
   "source": [
    "# Convert categorical data to numeric and separate target feature for training data\n",
    "# separate target feature for training data\n",
    "X_train = train_df.drop('target', axis=1)\n",
    "y_train = train_df['target']\n",
    "\n",
    "# Convert categorical data to numeric\n",
    "X_train = pd.get_dummies(X_train)\n",
    "\n",
    "# encoding target values using class sklearn.preprocessing.LabelEncoder\n",
    "y_train = LabelEncoder().fit_transform(y_train)"
   ]
  },
  {
   "cell_type": "code",
   "execution_count": 128,
   "metadata": {},
   "outputs": [],
   "source": [
    "# print(X_train)\n",
    "# print(y_train)"
   ]
  },
  {
   "cell_type": "code",
   "execution_count": 129,
   "metadata": {},
   "outputs": [],
   "source": [
    "# Convert categorical data to numeric and separate target feature for testing data\n",
    "\n",
    "# separate target feature for testing data\n",
    "X_test = test_df.drop('target', axis=1)\n",
    "y_test = test_df['target']\n",
    "\n",
    "# Convert categorical data to numeric\n",
    "X_test = pd.get_dummies(X_test)\n",
    "\n",
    "# encoding target values using class sklearn.preprocessing.LabelEncoder\n",
    "y_test = LabelEncoder().fit_transform(y_test)"
   ]
  },
  {
   "cell_type": "code",
   "execution_count": 130,
   "metadata": {},
   "outputs": [],
   "source": [
    "# print(X_test)\n",
    "# print(y_test)"
   ]
  },
  {
   "cell_type": "code",
   "execution_count": 131,
   "metadata": {},
   "outputs": [],
   "source": [
    "# add missing dummy variables to testing set\n",
    "# Compare fields from train to test. If there is field in traning dataset that is not in testing set , add it to X_test\n",
    "for colmn in X_train.columns:\n",
    "    if colmn not in X_test.columns:\n",
    "        X_test[colmn] = 0\n",
    "     "
   ]
  },
  {
   "cell_type": "markdown",
   "metadata": {},
   "source": [
    "I predict Logistic regression will perform better because it works best for binany classification problems. The data in question has binary out put belonging to one class or the other (Low Risk or High Risk (1,0))\n",
    "However, there are a number of categorical and explanatory variables in the dataset that might make Random Forest a better predictor. I still stick with Logical Regression.  \n",
    "#### Let's Find Out"
   ]
  },
  {
   "cell_type": "markdown",
   "metadata": {},
   "source": [
    "## Train the Logistic Regression model on the unscaled data and print the model score"
   ]
  },
  {
   "cell_type": "code",
   "execution_count": 132,
   "metadata": {},
   "outputs": [
    {
     "name": "stdout",
     "output_type": "stream",
     "text": [
      "Training data scrore : 0.7245338264755741\n",
      "Testing data scrore : 0.44102968216443394\n"
     ]
    }
   ],
   "source": [
    "# Train the Logistic Regression model on the unscaled data\n",
    "model_unscaled = LogisticRegression(max_iter=10000)\n",
    "model_unscaled.fit(X_train, y_train)\n",
    "\n",
    "LR_US_Tr_scr = model_unscaled.score(X_train, y_train)\n",
    "LR_US_Tst_scr = model_unscaled.score(X_test, y_test)\n",
    "# Print the model score\n",
    "print(f\"Training data scrore : {LR_US_Tr_scr}\")\n",
    "print(f\"Testing data scrore : {LR_US_Tst_scr}\")\n",
    "\n"
   ]
  },
  {
   "cell_type": "markdown",
   "metadata": {},
   "source": [
    "Adjusting hyperparameters to see if the score improves ."
   ]
  },
  {
   "cell_type": "code",
   "execution_count": 133,
   "metadata": {},
   "outputs": [
    {
     "name": "stdout",
     "output_type": "stream",
     "text": [
      "Training data scrore : 0.6311450146401603\n",
      "Testing data scrore : 0.4913317572892041\n"
     ]
    }
   ],
   "source": [
    "\n",
    "#model_unscaled = LogisticRegression(solver=\"saga\", max_iter=10000, C=3.2, penalty='l2')\n",
    "model_unscaled = LogisticRegression(solver=\"sag\", max_iter=10000, C=2.5, penalty='l2')\n",
    "model_unscaled.fit(X_train, y_train)\n",
    "\n",
    "LR_US_Tr_Par_scr = model_unscaled.score(X_train, y_train)\n",
    "LR_US_Tst_Par_scr = model_unscaled.score(X_test, y_test)\n",
    "\n",
    "# Print the model score\n",
    "print(f\"Training data scrore : {LR_US_Tr_Par_scr}\")\n",
    "print(f\"Testing data scrore : {LR_US_Tst_Par_scr}\")"
   ]
  },
  {
   "cell_type": "code",
   "execution_count": 134,
   "metadata": {},
   "outputs": [
    {
     "name": "stdout",
     "output_type": "stream",
     "text": [
      "0.05030207512477014\n"
     ]
    }
   ],
   "source": [
    "print(LR_US_Tst_Par_scr - LR_US_Tst_scr)"
   ]
  },
  {
   "cell_type": "markdown",
   "metadata": {},
   "source": [
    "#### Adjusting the Hyperparameters on LR model on unscaled data \n",
    "* Tried a few combinations to tune\n",
    "* It did improve the Testing Data Score by 5%\n",
    "* Takes longer execution time each time a parameter/parameters is/are changed\n"
   ]
  },
  {
   "cell_type": "markdown",
   "metadata": {},
   "source": [
    "## Train a Random Forest Classifier model on unscaled data and print the model score\n"
   ]
  },
  {
   "cell_type": "code",
   "execution_count": 135,
   "metadata": {},
   "outputs": [
    {
     "name": "stdout",
     "output_type": "stream",
     "text": [
      "Training data scrore : 1.0\n",
      "Testing data scrore : 0.6767796164959285\n"
     ]
    }
   ],
   "source": [
    "# Train the Random Forest Classifier model on unscaled data\n",
    "model_unscaledRF = RandomForestClassifier()\n",
    "model_unscaledRF.fit(X_train, y_train)\n",
    "\n",
    "# Print the model score\n",
    "RF_US_Tr_scr  = model_unscaledRF.score(X_train, y_train)\n",
    "RF_US_Tst_scr = model_unscaledRF.score(X_test, y_test)\n",
    "\n",
    "\n",
    "print(f\"Training data scrore : {RF_US_Tr_scr}\")\n",
    "print(f\"Testing data scrore : {RF_US_Tst_scr}\")"
   ]
  },
  {
   "cell_type": "markdown",
   "metadata": {},
   "source": [
    "Adjusting hyperparameters to see if the score improves .  \n",
    "To choose which hyperparameters to adjust, we could visualize with validation_curve, or conduct Exhaustive Grid Search. Here we are using validation_curve and test the parameters 'n_estimators', 'max_depth', 'min_samples_split'by giving them a range of values. "
   ]
  },
  {
   "cell_type": "code",
   "execution_count": 136,
   "metadata": {},
   "outputs": [
    {
     "data": {
      "image/png": "[encoded data removed]",
      "text/plain": [
       "<Figure size 576x396 with 1 Axes>"
      ]
     },
     "metadata": {},
     "output_type": "display_data"
    },
    {
     "name": "stdout",
     "output_type": "stream",
     "text": [
      "ValidationCurve(ax=<AxesSubplot:title={'center':'Validation Curve for RandomForestClassifier'}, xlabel='n_estimators', ylabel='score'>,\n",
      "                cv=3, estimator=RandomForestClassifier(), n_jobs=-1,\n",
      "                param_name='n_estimators',\n",
      "                param_range=array([ 31, 100, 200, 300]), scoring='accuracy')\n"
     ]
    }
   ],
   "source": [
    "print(validation_curve(model_unscaledRF, X_train, y_train, param_name=\"n_estimators\", n_jobs=-1,\n",
    "      param_range = [31,100,200,300], cv=3, scoring=\"accuracy\"))"
   ]
  },
  {
   "cell_type": "code",
   "execution_count": 137,
   "metadata": {},
   "outputs": [
    {
     "data": {
      "image/png": "[encoded data removed]",
      "text/plain": [
       "<Figure size 576x396 with 1 Axes>"
      ]
     },
     "metadata": {},
     "output_type": "display_data"
    },
    {
     "name": "stdout",
     "output_type": "stream",
     "text": [
      "ValidationCurve(ax=<AxesSubplot:title={'center':'Validation Curve for RandomForestClassifier'}, xlabel='max_depth', ylabel='score'>,\n",
      "                cv=3, estimator=RandomForestClassifier(), n_jobs=-1,\n",
      "                param_name='max_depth', param_range=array([10, 20, 60, 80]),\n",
      "                scoring='accuracy')\n"
     ]
    }
   ],
   "source": [
    "print(validation_curve(model_unscaledRF, X_train, y_train, param_name=\"max_depth\", n_jobs=-1,\n",
    "      param_range = [10,20,60,80], cv=3, scoring=\"accuracy\"))"
   ]
  },
  {
   "cell_type": "code",
   "execution_count": 138,
   "metadata": {},
   "outputs": [
    {
     "data": {
      "image/png": "[encoded data removed]",
      "text/plain": [
       "<Figure size 576x396 with 1 Axes>"
      ]
     },
     "metadata": {},
     "output_type": "display_data"
    },
    {
     "name": "stdout",
     "output_type": "stream",
     "text": [
      "ValidationCurve(ax=<AxesSubplot:title={'center':'Validation Curve for RandomForestClassifier'}, xlabel='min_samples_split', ylabel='score'>,\n",
      "                cv=3, estimator=RandomForestClassifier(), n_jobs=-1,\n",
      "                param_name='min_samples_split',\n",
      "                param_range=array([ 2,  4,  6,  8, 10]), scoring='accuracy')\n"
     ]
    }
   ],
   "source": [
    "print(validation_curve(model_unscaledRF, X_train, y_train, param_name=\"min_samples_split\", n_jobs=-1,\n",
    "      param_range = [2,4,6,8,10], cv=3, scoring=\"accuracy\"))"
   ]
  },
  {
   "cell_type": "code",
   "execution_count": 139,
   "metadata": {},
   "outputs": [
    {
     "name": "stdout",
     "output_type": "stream",
     "text": [
      "Training data scrore : 1.0\n",
      "Testing data scrore : 0.6685053848174416\n"
     ]
    }
   ],
   "source": [
    "# Train the Random Forest Classifier model on unscaled data using best parameters from validation_curve.\n",
    "model_unscaledRF = RandomForestClassifier(n_estimators=300, max_depth=30, min_samples_split=5)\n",
    "model_unscaledRF.fit(X_train, y_train)\n",
    "\n",
    "\n",
    "\n",
    "# Print the model score\n",
    "RF_US_Tr_Par_scr  = model_unscaledRF.score(X_train, y_train)\n",
    "RF_US_Tst_Par_scr = model_unscaledRF.score(X_test, y_test)\n",
    "\n",
    "\n",
    "print(f\"Training data scrore : {RF_US_Tr_Par_scr}\")\n",
    "print(f\"Testing data scrore : {RF_US_Tst_Par_scr}\")"
   ]
  },
  {
   "cell_type": "code",
   "execution_count": 140,
   "metadata": {},
   "outputs": [
    {
     "name": "stdout",
     "output_type": "stream",
     "text": [
      "Training data scrore : 0.9995376791493297\n",
      "Testing data scrore : 0.677698975571316\n"
     ]
    }
   ],
   "source": [
    "\n",
    "model_unscaledRF = RandomForestClassifier(n_estimators=31)\n",
    "# model_unscaledRF = RandomForestClassifier(max_features=0.4, n_estimators = 31, min_samples_leaf=64)\n",
    "#model_unscaledRF = RandomForestClassifier(n_estimators = 31, oob_score = True,n_jobs = -1,random_state =1)\n",
    "model_unscaledRF.fit(X_train, y_train)\n",
    "\n",
    "# Print the model score\n",
    "RF_US_Tr_Par_scr  = model_unscaledRF.score(X_train, y_train)\n",
    "RF_US_Tst_Par_scr = model_unscaledRF.score(X_test, y_test)\n",
    "\n",
    "\n",
    "print(f\"Training data scrore : {RF_US_Tr_Par_scr}\")\n",
    "print(f\"Testing data scrore : {RF_US_Tst_Par_scr}\")"
   ]
  },
  {
   "cell_type": "markdown",
   "metadata": {},
   "source": [
    "**Tried a few parameters but the best score was for n_estimators=31**"
   ]
  },
  {
   "cell_type": "code",
   "execution_count": 141,
   "metadata": {},
   "outputs": [
    {
     "name": "stdout",
     "output_type": "stream",
     "text": [
      "0.000919359075387427\n"
     ]
    }
   ],
   "source": [
    "print(RF_US_Tst_Par_scr - RF_US_Tst_scr)"
   ]
  },
  {
   "cell_type": "markdown",
   "metadata": {},
   "source": [
    "#### Adjusting the Hyperparameters on RF Classifiers  on unscaled data \n",
    "* Tried a few combinations to tune\n",
    "* It did NOT improve the Testing Data Score \n",
    "* Takes longer execution time each time a parameter/parameters is/are changed"
   ]
  },
  {
   "cell_type": "markdown",
   "metadata": {},
   "source": [
    "## Results\n",
    "Unlike my prediction, The Random Forest Classifier performed far better then the logistic regression model.   \n",
    "2020 First Quarter score was : **0.4913317572892041** for Logistic regression model.  \n",
    "Random forest 2020 First Quarter score was : **0.677698975571316**"
   ]
  },
  {
   "cell_type": "code",
   "execution_count": 142,
   "metadata": {},
   "outputs": [
    {
     "data": {
      "text/html": [
       "<div>\n",
       "<style scoped>\n",
       "    .dataframe tbody tr th:only-of-type {\n",
       "        vertical-align: middle;\n",
       "    }\n",
       "\n",
       "    .dataframe tbody tr th {\n",
       "        vertical-align: top;\n",
       "    }\n",
       "\n",
       "    .dataframe thead th {\n",
       "        text-align: right;\n",
       "    }\n",
       "</style>\n",
       "<table border=\"1\" class=\"dataframe\">\n",
       "  <thead>\n",
       "    <tr style=\"text-align: right;\">\n",
       "      <th></th>\n",
       "      <th>Dataset</th>\n",
       "      <th>Logistic Reg UnScaled</th>\n",
       "      <th>Random Forest UnScaled</th>\n",
       "    </tr>\n",
       "  </thead>\n",
       "  <tbody>\n",
       "    <tr>\n",
       "      <th>0</th>\n",
       "      <td>2019loans(Training)</td>\n",
       "      <td>0.724534</td>\n",
       "      <td>1.000000</td>\n",
       "    </tr>\n",
       "    <tr>\n",
       "      <th>1</th>\n",
       "      <td>2020Q1loans(Testing)</td>\n",
       "      <td>0.491332</td>\n",
       "      <td>0.677699</td>\n",
       "    </tr>\n",
       "  </tbody>\n",
       "</table>\n",
       "</div>"
      ],
      "text/plain": [
       "                Dataset  Logistic Reg UnScaled  Random Forest UnScaled\n",
       "0   2019loans(Training)               0.724534                1.000000\n",
       "1  2020Q1loans(Testing)               0.491332                0.677699"
      ]
     },
     "execution_count": 142,
     "metadata": {},
     "output_type": "execute_result"
    }
   ],
   "source": [
    "if (LR_US_Tst_Par_scr >= LR_US_Tst_scr):\n",
    "    LR_US_Tst_scr = LR_US_Tst_Par_scr\n",
    "if (RF_US_Tst_Par_scr >= RF_US_Tst_scr):\n",
    "    RF_US_Tst_scr = RF_US_Tst_Par_scr    \n",
    "if (LR_US_Tr_Par_scr >= LR_US_Tr_scr):\n",
    "    LR_US_Tr_scr = LR_US_Tr_Par_scr\n",
    "if (RF_US_Tr_Par_scr >= RF_US_Tr_scr):\n",
    "    RF_US_Tr_scr = RF_US_Tr_Par_scr        \n",
    "\n",
    "# pd.DataFrame(data=[[LR_US_Tst_scr,RF_US_Tst_scr]], \n",
    "# columns=['Logistic Reg UnScaled', 'Random Forest UnScaled'])\n",
    "\n",
    "final_results_us = pd.DataFrame(\n",
    "    data={'Dataset':['2019loans(Training)', '2020Q1loans(Testing)'], \\\n",
    "    'Logistic Reg UnScaled':[LR_US_Tr_scr,LR_US_Tst_scr],\\\n",
    "    'Random Forest UnScaled':[RF_US_Tr_scr,RF_US_Tst_scr]\n",
    "    })\n",
    "final_results_us"
   ]
  },
  {
   "cell_type": "markdown",
   "metadata": {},
   "source": [
    "# Revisit the Preprocessing: Scale the data\n",
    " * I predict that scaling data will considerably improve logistic regression model and it will outperform Random Forest Model. \n",
    " StandardScaler makes field values compareable by removing the mean and by scaling each feature/variable to unit variance.\n",
    " * We know that Random Forst Model is built on decision trees and ensemble methods that do not require feature scaling as they are not sensitive to the the variance in the data. Hence, we might not see significant improvement in Random Forest model.\n"
   ]
  },
  {
   "cell_type": "code",
   "execution_count": 143,
   "metadata": {},
   "outputs": [],
   "source": [
    "# Data before scaling\n",
    "#X_train"
   ]
  },
  {
   "cell_type": "code",
   "execution_count": 144,
   "metadata": {},
   "outputs": [],
   "source": [
    "X_train_scaled = StandardScaler().fit_transform(X_train)\n",
    "# display(X_train_scaled)\n",
    "\n",
    "X_test_scaled = StandardScaler().fit_transform(X_test)\n",
    "# display(X_test_scaled)"
   ]
  },
  {
   "cell_type": "code",
   "execution_count": 145,
   "metadata": {},
   "outputs": [],
   "source": [
    "# Data after scaling\n",
    "#X_train_scaled"
   ]
  },
  {
   "cell_type": "markdown",
   "metadata": {},
   "source": [
    "## Train the Logistic Regression model on the scaled data and print the model score\n"
   ]
  },
  {
   "cell_type": "code",
   "execution_count": 146,
   "metadata": {},
   "outputs": [
    {
     "name": "stdout",
     "output_type": "stream",
     "text": [
      "Training data scrore : 0.7320080135614117\n",
      "Testing data scrore : 0.7542684528500131\n"
     ]
    }
   ],
   "source": [
    "model_scaledLR = LogisticRegression(solver=\"sag\", max_iter=10000, C=2.5, penalty='l2')\n",
    "model_scaledLR.fit(X_train_scaled, y_train)\n",
    "\n",
    "# Print the model score\n",
    "LR_S_Tr_scr  = model_scaledLR.score(X_train_scaled, y_train)\n",
    "LR_S_Tst_scr = model_scaledLR.score(X_test_scaled, y_test)\n",
    "\n",
    "\n",
    "print(f\"Training data scrore : {LR_S_Tr_scr}\")\n",
    "print(f\"Testing data scrore : {LR_S_Tst_scr}\")\n",
    "\n",
    "# model_scaledLR.score(X_test_scaled, y_test)"
   ]
  },
  {
   "cell_type": "markdown",
   "metadata": {},
   "source": [
    "Predictions"
   ]
  },
  {
   "cell_type": "code",
   "execution_count": 147,
   "metadata": {},
   "outputs": [
    {
     "name": "stdout",
     "output_type": "stream",
     "text": [
      "First 16 predictions:   [1 1 1 0 1 1 1 0 1 0 1 1 0 1 0 1]\n",
      "First 16 actual labels: [1, 1, 1, 1, 1, 1, 1, 1, 1, 1, 1, 1, 1, 1, 1, 1]\n"
     ]
    }
   ],
   "source": [
    "predictions = model_scaledLR.predict(X_test_scaled)\n",
    "print(f\"First 16 predictions:   {predictions[:16]}\")\n",
    "print(f\"First 16 actual labels: {y_test[:16].tolist()}\")"
   ]
  },
  {
   "cell_type": "markdown",
   "metadata": {},
   "source": [
    "Confusion Matrix"
   ]
  },
  {
   "cell_type": "code",
   "execution_count": 148,
   "metadata": {},
   "outputs": [
    {
     "data": {
      "text/plain": [
       "array([[2896,  911],\n",
       "       [ 960, 2847]], dtype=int64)"
      ]
     },
     "execution_count": 148,
     "metadata": {},
     "output_type": "execute_result"
    }
   ],
   "source": [
    "y_true = y_test\n",
    "y_pred = model_scaledLR.predict(X_test_scaled)\n",
    "confusion_matrix(y_true, y_pred)\n"
   ]
  },
  {
   "cell_type": "markdown",
   "metadata": {},
   "source": [
    "Accuracy of the model"
   ]
  },
  {
   "cell_type": "code",
   "execution_count": 149,
   "metadata": {},
   "outputs": [
    {
     "name": "stdout",
     "output_type": "stream",
     "text": [
      "Accuracy : 0.7542684528500131\n"
     ]
    }
   ],
   "source": [
    "tn, fp, fn, tp = confusion_matrix(y_true, y_pred).ravel()\n",
    "accuracy = (tp + tn) / (tp + fp + tn + fn)\n",
    "print(f\"Accuracy : {accuracy}\")"
   ]
  },
  {
   "cell_type": "markdown",
   "metadata": {},
   "source": [
    "Classification Report"
   ]
  },
  {
   "cell_type": "code",
   "execution_count": 150,
   "metadata": {},
   "outputs": [
    {
     "name": "stdout",
     "output_type": "stream",
     "text": [
      "              precision    recall  f1-score   support\n",
      "\n",
      "           0       0.75      0.76      0.76      3807\n",
      "           1       0.76      0.75      0.75      3807\n",
      "\n",
      "    accuracy                           0.75      7614\n",
      "   macro avg       0.75      0.75      0.75      7614\n",
      "weighted avg       0.75      0.75      0.75      7614\n",
      "\n"
     ]
    }
   ],
   "source": [
    "print (classification_report(y_true, y_pred))"
   ]
  },
  {
   "cell_type": "code",
   "execution_count": 151,
   "metadata": {},
   "outputs": [],
   "source": [
    "importance = model_scaledLR.coef_[0]\n",
    "important_features_list = []\n",
    "for i in range(len(importance)):\n",
    "    important_features_list.append((X_train.columns[i], importance[i]))\n",
    "    \n",
    "important_features_list = sorted(important_features_list, key = lambda x: x[1],reverse=True)    "
   ]
  },
  {
   "cell_type": "markdown",
   "metadata": {},
   "source": [
    "#### Feature list in the order of importance displaying which feature had the most influence in creating an accurate model.\n"
   ]
  },
  {
   "cell_type": "code",
   "execution_count": 152,
   "metadata": {},
   "outputs": [
    {
     "name": "stdout",
     "output_type": "stream",
     "text": [
      "Feature list in the order of importance\n",
      "---------------------------------------\n",
      "total_rec_prncp : 1.001582183130972\n",
      "last_pymnt_amnt : 0.8057175707589949\n",
      "total_pymnt : 0.7032360352788826\n",
      "total_pymnt_inv : 0.6901042863176523\n",
      "loan_amnt : 0.5758783334714875\n",
      "total_il_high_credit_limit : 0.28033486294819593\n",
      "total_bc_limit : 0.2766244762935493\n",
      "open_rv_24m : 0.08717045879372153\n",
      "pct_tl_nvr_dlq : 0.08189219200413983\n",
      "home_ownership_MORTGAGE : 0.07422563478249909\n",
      "num_actv_bc_tl : 0.07324785183253732\n",
      "mths_since_recent_inq : 0.07225911828797525\n",
      "mo_sin_old_rev_tl_op : 0.07093739755890968\n",
      "open_rv_12m : 0.07004586598831372\n",
      "num_op_rev_tl : 0.06869126178504074\n",
      "out_prncp_inv : 0.06655378471680651\n",
      "out_prncp : 0.06515770937210319\n",
      "num_bc_tl : 0.0642317292948756\n",
      "open_il_12m : 0.053037674425693716\n",
      "mo_sin_old_il_acct : 0.052914971180563604\n",
      "hardship_flag_N : 0.050954326215048515\n",
      "mo_sin_rcnt_rev_tl_op : 0.05084570082109454\n",
      "revol_bal : 0.050820481089155434\n",
      "open_il_24m : 0.04942461732836335\n",
      "open_acc : 0.045716365113145335\n",
      "total_rev_hi_lim : 0.043984895608860826\n",
      "open_act_il : 0.04338630256499346\n",
      "all_util : 0.040153291937925696\n",
      "verification_status_Not Verified : 0.036642217800742095\n",
      "max_bal_bc : 0.0351454786659706\n",
      "bc_util : 0.03484980060080426\n",
      "mths_since_recent_bc : 0.03397129523287069\n",
      "num_accts_ever_120_pd : 0.030461730956130646\n",
      "tot_hi_cred_lim : 0.03031170988147019\n",
      "mort_acc : 0.029984400652752624\n",
      "avg_cur_bal : 0.027014719742204374\n",
      "inq_fi : 0.02554929255969361\n",
      "dti : 0.025455772504124754\n",
      "application_type_Individual : 0.023711780051980214\n",
      "num_tl_90g_dpd_24m : 0.018641090607137666\n",
      "num_sats : 0.016071583634006608\n",
      "initial_list_status_w : 0.015221363985770916\n",
      "pub_rec : 0.010798451503306834\n",
      "pub_rec_bankruptcies : 0.010798451503306834\n",
      "mths_since_rcnt_il : 0.010715827879620488\n",
      "annual_inc : 0.01007997867988557\n",
      "total_cu_tl : 0.00890104160206745\n",
      "delinq_2yrs : 0.007278448636032207\n",
      "chargeoff_within_12_mths : 0.005357201156056116\n",
      "verification_status_Source Verified : 0.004177226300721702\n",
      "num_rev_accts : 0.0038341418847623637\n",
      "inq_last_6mths : 0.0032598829832002655\n",
      "recoveries : 0.0\n",
      "collection_recovery_fee : 0.0\n",
      "policy_code : 0.0\n",
      "acc_now_delinq : 0.0\n",
      "num_tl_120dpd_2m : 0.0\n",
      "num_tl_30dpd : 0.0\n",
      "tax_liens : 0.0\n",
      "pymnt_plan_n : 0.0\n",
      "debt_settlement_flag_N : 0.0\n",
      "num_rev_tl_bal_gt_0 : -0.003427231104342166\n",
      "int_rate : -0.006694413281079128\n",
      "open_acc_6m : -0.006742956153200373\n",
      "tot_coll_amt : -0.009368365418070426\n",
      "collections_12_mths_ex_med : -0.015120572550665727\n",
      "initial_list_status_f : -0.015221363985770916\n",
      "inq_last_12m : -0.018923714648898218\n",
      "num_il_tl : -0.020995415734030062\n",
      "application_type_Joint App : -0.023711780051980214\n",
      "delinq_amnt : -0.02820380682098553\n",
      "il_util : -0.03784140669664908\n",
      "home_ownership_OWN : -0.03927956889509189\n",
      "home_ownership_RENT : -0.040952457901009584\n",
      "mo_sin_rcnt_tl : -0.04126200681887079\n",
      "hardship_flag_Y : -0.05095432621503952\n",
      "verification_status_Verified : -0.05483692046873158\n",
      "home_ownership_ANY : -0.06365803507833605\n",
      "total_bal_il : -0.07874073679365583\n",
      "num_tl_op_past_12m : -0.08975460326142644\n",
      "percent_bc_gt_75 : -0.0934928565335557\n",
      "tot_cur_bal : -0.09965999107814748\n",
      "total_acc : -0.10663551159539963\n",
      "num_actv_rev_tl : -0.10973379878759157\n",
      "bc_open_to_buy : -0.1345996998953115\n",
      "total_bal_ex_mort : -0.1678482098233581\n",
      "num_bc_sats : -0.17029190328745689\n",
      "total_rec_int : -0.1724126924107479\n",
      "acc_open_past_24mths : -0.18946299374203496\n",
      "total_rec_late_fee : -0.966764090782445\n",
      "installment : -3.1606096878203043\n"
     ]
    }
   ],
   "source": [
    "print (\"Feature list in the order of importance\")\n",
    "print (\"---------------------------------------\")\n",
    "for i in range(len(important_features_list)):\n",
    "    print(f\"{important_features_list[i][0]} : {important_features_list[i][1]}\")"
   ]
  },
  {
   "cell_type": "code",
   "execution_count": 153,
   "metadata": {},
   "outputs": [],
   "source": [
    "# import matplotlib.pyplot as plt\n",
    "# df = pd.DataFrame(important_features_list, columns =['Feature', 'Importance'])\n",
    "# plt.figure(figsize=(20,4))\n",
    "# plt.bar(df['Feature'], df['Importance'])\n",
    "# plt.xticks(rotation=90)\n",
    "# plt.show()"
   ]
  },
  {
   "cell_type": "markdown",
   "metadata": {},
   "source": [
    "* **Logistic regression model improved considerably after scaling the data.**\n",
    "* Checked accuray using Confusion Matrix"
   ]
  },
  {
   "cell_type": "markdown",
   "metadata": {},
   "source": [
    "## Train a Random Forest Classifier model on the scaled data and print the model score"
   ]
  },
  {
   "cell_type": "code",
   "execution_count": 154,
   "metadata": {},
   "outputs": [
    {
     "name": "stdout",
     "output_type": "stream",
     "text": [
      "Training data scrore : 0.9996147326244413\n",
      "Testing data scrore : 0.6058576306803257\n"
     ]
    }
   ],
   "source": [
    "model_scaledRF = RandomForestClassifier(n_estimators=31)\n",
    "model_scaledRF.fit(X_train_scaled, y_train)\n",
    "# model_scaledRF.score(X_test_scaled, y_test)\n",
    "\n",
    "\n",
    "# Print the model score\n",
    "RF_S_Tr_scr  = model_scaledRF.score(X_train_scaled, y_train)\n",
    "RF_S_Tst_scr = model_scaledRF.score(X_test_scaled, y_test)\n",
    "\n",
    "\n",
    "print(f\"Training data scrore : {RF_S_Tr_scr}\")\n",
    "print(f\"Testing data scrore : {RF_S_Tst_scr}\")"
   ]
  },
  {
   "cell_type": "markdown",
   "metadata": {},
   "source": [
    "* Random Forest has no positive effect with scaled data. It did Not improve.\n",
    "* Logistice Regression outperformed random Forest Classifier."
   ]
  },
  {
   "cell_type": "markdown",
   "metadata": {},
   "source": [
    "Predictions"
   ]
  },
  {
   "cell_type": "code",
   "execution_count": 155,
   "metadata": {},
   "outputs": [
    {
     "name": "stdout",
     "output_type": "stream",
     "text": [
      "First 16 predictions:   [1 0 0 0 0 0 1 0 0 0 0 0 0 0 0 0]\n",
      "First 16 actual labels: [1, 1, 1, 1, 1, 1, 1, 1, 1, 1, 1, 1, 1, 1, 1, 1]\n"
     ]
    }
   ],
   "source": [
    "predictions = model_scaledRF.predict(X_test_scaled)\n",
    "print(f\"First 16 predictions:   {predictions[:16]}\")\n",
    "print(f\"First 16 actual labels: {y_test[:16].tolist()}\")"
   ]
  },
  {
   "cell_type": "markdown",
   "metadata": {},
   "source": [
    "Confusion Matrix"
   ]
  },
  {
   "cell_type": "code",
   "execution_count": 156,
   "metadata": {},
   "outputs": [
    {
     "data": {
      "text/plain": [
       "array([[3676,  131],\n",
       "       [2870,  937]], dtype=int64)"
      ]
     },
     "execution_count": 156,
     "metadata": {},
     "output_type": "execute_result"
    }
   ],
   "source": [
    "y_true = y_test\n",
    "y_pred = model_scaledRF.predict(X_test_scaled)\n",
    "confusion_matrix(y_true, y_pred)"
   ]
  },
  {
   "cell_type": "markdown",
   "metadata": {},
   "source": [
    "Accuracy of the model"
   ]
  },
  {
   "cell_type": "code",
   "execution_count": 157,
   "metadata": {},
   "outputs": [
    {
     "name": "stdout",
     "output_type": "stream",
     "text": [
      "Accuracy : 0.6058576306803257\n"
     ]
    }
   ],
   "source": [
    "tn, fp, fn, tp = confusion_matrix(y_true, y_pred).ravel()\n",
    "accuracy = (tp + tn) / (tp + fp + tn + fn)\n",
    "print(f\"Accuracy : {accuracy}\")"
   ]
  },
  {
   "cell_type": "markdown",
   "metadata": {},
   "source": [
    "Classification Report"
   ]
  },
  {
   "cell_type": "code",
   "execution_count": 158,
   "metadata": {},
   "outputs": [
    {
     "name": "stdout",
     "output_type": "stream",
     "text": [
      "              precision    recall  f1-score   support\n",
      "\n",
      "           0       0.56      0.97      0.71      3807\n",
      "           1       0.88      0.25      0.38      3807\n",
      "\n",
      "    accuracy                           0.61      7614\n",
      "   macro avg       0.72      0.61      0.55      7614\n",
      "weighted avg       0.72      0.61      0.55      7614\n",
      "\n"
     ]
    }
   ],
   "source": [
    "print (classification_report(y_true, y_pred))"
   ]
  },
  {
   "cell_type": "code",
   "execution_count": 159,
   "metadata": {},
   "outputs": [],
   "source": [
    "features = model_scaledRF.feature_importances_\n",
    "features_list = []\n",
    "for i in range(len(features)):\n",
    "    features_list.append((X_train.columns[i], features[i]))\n",
    "    \n",
    "features_list = sorted(features_list, key = lambda x: x[1],reverse=True)\n"
   ]
  },
  {
   "cell_type": "markdown",
   "metadata": {},
   "source": [
    "#### Feature list in the order of importance displaying which feature had the most influence in creating an accurate model.\n"
   ]
  },
  {
   "cell_type": "code",
   "execution_count": 160,
   "metadata": {},
   "outputs": [
    {
     "name": "stdout",
     "output_type": "stream",
     "text": [
      "Feature list in the order of importance\n",
      "---------------------------------------\n",
      "last_pymnt_amnt : 0.10284938305058136\n",
      "total_rec_prncp : 0.04269734697780811\n",
      "out_prncp_inv : 0.03999049380206395\n",
      "int_rate : 0.039438287491674225\n",
      "out_prncp : 0.03490080758856274\n",
      "installment : 0.030265928494745267\n",
      "total_rec_int : 0.02776459484015255\n",
      "total_pymnt_inv : 0.022842200555664726\n",
      "mo_sin_old_rev_tl_op : 0.020932718217965943\n",
      "total_pymnt : 0.02042140555074754\n",
      "total_bc_limit : 0.01812181663535101\n",
      "total_rec_late_fee : 0.018067130591427952\n",
      "max_bal_bc : 0.017796046852749988\n",
      "total_rev_hi_lim : 0.017698985569103702\n",
      "mo_sin_old_il_acct : 0.01762160138991114\n",
      "loan_amnt : 0.017337414269419666\n",
      "bc_open_to_buy : 0.01723064505917148\n",
      "dti : 0.016750349034014175\n",
      "revol_bal : 0.016648785299269914\n",
      "il_util : 0.016168865122594786\n",
      "total_il_high_credit_limit : 0.015892330351025403\n",
      "tot_hi_cred_lim : 0.015784003497733574\n",
      "bc_util : 0.015393323005553667\n",
      "annual_inc : 0.015241875598899168\n",
      "avg_cur_bal : 0.015073458635096319\n",
      "total_bal_ex_mort : 0.014810023479823953\n",
      "all_util : 0.014474397363238927\n",
      "tot_cur_bal : 0.014260847956713119\n",
      "mths_since_recent_bc : 0.014256126843733003\n",
      "total_bal_il : 0.014185034761888354\n",
      "total_acc : 0.013468893262264168\n",
      "mths_since_recent_inq : 0.01325473819141741\n",
      "mo_sin_rcnt_rev_tl_op : 0.012938336201696652\n",
      "mths_since_rcnt_il : 0.012598561705142161\n",
      "num_il_tl : 0.011756684466110097\n",
      "mo_sin_rcnt_tl : 0.010991749545348758\n",
      "num_rev_accts : 0.01090065851457326\n",
      "pct_tl_nvr_dlq : 0.010361671746525017\n",
      "open_acc : 0.00987134082742502\n",
      "num_op_rev_tl : 0.009831765898767657\n",
      "acc_open_past_24mths : 0.009724041283917146\n",
      "num_sats : 0.009532947779294832\n",
      "num_bc_tl : 0.009241455757390342\n",
      "percent_bc_gt_75 : 0.009030358998223693\n",
      "num_actv_rev_tl : 0.008908771039547413\n",
      "num_rev_tl_bal_gt_0 : 0.008575906531844783\n",
      "open_rv_24m : 0.007941072903356943\n",
      "num_bc_sats : 0.007892332875487643\n",
      "num_actv_bc_tl : 0.007805225434049026\n",
      "inq_last_12m : 0.00770941646316771\n",
      "open_act_il : 0.007345609124066139\n",
      "num_tl_op_past_12m : 0.007159272471777213\n",
      "open_il_24m : 0.006810783108958873\n",
      "inq_fi : 0.006706925953375533\n",
      "mort_acc : 0.006246511604461211\n",
      "total_cu_tl : 0.006184642603059091\n",
      "open_rv_12m : 0.005578982518732621\n",
      "open_acc_6m : 0.004534775408961522\n",
      "tot_coll_amt : 0.004391756137748469\n",
      "open_il_12m : 0.004334412608163084\n",
      "num_accts_ever_120_pd : 0.004012413771442176\n",
      "inq_last_6mths : 0.004002130536323932\n",
      "home_ownership_MORTGAGE : 0.0028549281779089134\n",
      "delinq_2yrs : 0.002359962567698203\n",
      "home_ownership_RENT : 0.0022434355383173107\n",
      "verification_status_Not Verified : 0.002030487366528736\n",
      "verification_status_Source Verified : 0.001937447137975906\n",
      "verification_status_Verified : 0.0017394380716634738\n",
      "application_type_Individual : 0.0015958971112017594\n",
      "pub_rec_bankruptcies : 0.0014777002039261212\n",
      "initial_list_status_f : 0.001475808139378574\n",
      "home_ownership_OWN : 0.0014427410210033852\n",
      "pub_rec : 0.0013741538772449116\n",
      "application_type_Joint App : 0.0011971094334990193\n",
      "initial_list_status_w : 0.0011839544941506194\n",
      "num_tl_90g_dpd_24m : 0.0009608794023380864\n",
      "collections_12_mths_ex_med : 0.0007127857502641675\n",
      "home_ownership_ANY : 0.00034190128139660315\n",
      "hardship_flag_N : 0.0001831917054545563\n",
      "chargeoff_within_12_mths : 0.00016618914182783888\n",
      "hardship_flag_Y : 0.0001616164189164943\n",
      "recoveries : 0.0\n",
      "collection_recovery_fee : 0.0\n",
      "policy_code : 0.0\n",
      "acc_now_delinq : 0.0\n",
      "delinq_amnt : 0.0\n",
      "num_tl_120dpd_2m : 0.0\n",
      "num_tl_30dpd : 0.0\n",
      "tax_liens : 0.0\n",
      "pymnt_plan_n : 0.0\n",
      "debt_settlement_flag_N : 0.0\n"
     ]
    }
   ],
   "source": [
    "print (\"Feature list in the order of importance\")\n",
    "print (\"---------------------------------------\")\n",
    "for i in range(len(features_list)):\n",
    "    print(f\"{features_list[i][0]} : {features_list[i][1]}\")\n"
   ]
  },
  {
   "cell_type": "code",
   "execution_count": 161,
   "metadata": {},
   "outputs": [
    {
     "data": {
      "text/html": [
       "<div>\n",
       "<style scoped>\n",
       "    .dataframe tbody tr th:only-of-type {\n",
       "        vertical-align: middle;\n",
       "    }\n",
       "\n",
       "    .dataframe tbody tr th {\n",
       "        vertical-align: top;\n",
       "    }\n",
       "\n",
       "    .dataframe thead th {\n",
       "        text-align: right;\n",
       "    }\n",
       "</style>\n",
       "<table border=\"1\" class=\"dataframe\">\n",
       "  <thead>\n",
       "    <tr style=\"text-align: right;\">\n",
       "      <th></th>\n",
       "      <th>Dataset</th>\n",
       "      <th>Logistic Reg UnScaled</th>\n",
       "      <th>Random Forest UnScaled</th>\n",
       "      <th>Logistic Reg Scaled</th>\n",
       "      <th>Random Forest Scaled</th>\n",
       "    </tr>\n",
       "  </thead>\n",
       "  <tbody>\n",
       "    <tr>\n",
       "      <th>0</th>\n",
       "      <td>2019loans(Training)</td>\n",
       "      <td>0.724534</td>\n",
       "      <td>1.000000</td>\n",
       "      <td>0.732008</td>\n",
       "      <td>0.999615</td>\n",
       "    </tr>\n",
       "    <tr>\n",
       "      <th>1</th>\n",
       "      <td>2020Q1loans(Testing)</td>\n",
       "      <td>0.491332</td>\n",
       "      <td>0.677699</td>\n",
       "      <td>0.754268</td>\n",
       "      <td>0.605858</td>\n",
       "    </tr>\n",
       "  </tbody>\n",
       "</table>\n",
       "</div>"
      ],
      "text/plain": [
       "                Dataset  Logistic Reg UnScaled  Random Forest UnScaled  \\\n",
       "0   2019loans(Training)               0.724534                1.000000   \n",
       "1  2020Q1loans(Testing)               0.491332                0.677699   \n",
       "\n",
       "   Logistic Reg Scaled  Random Forest Scaled  \n",
       "0             0.732008              0.999615  \n",
       "1             0.754268              0.605858  "
      ]
     },
     "execution_count": 161,
     "metadata": {},
     "output_type": "execute_result"
    }
   ],
   "source": [
    "final_results = pd.DataFrame(\n",
    "    data={'Dataset':['2019loans(Training)', '2020Q1loans(Testing)'], \\\n",
    "    'Logistic Reg UnScaled':[LR_US_Tr_scr,LR_US_Tst_scr],\\\n",
    "    'Random Forest UnScaled':[RF_US_Tr_scr,RF_US_Tst_scr],\\\n",
    "    'Logistic Reg Scaled':[LR_S_Tr_scr,LR_S_Tst_scr],\\\n",
    "    'Random Forest Scaled':[RF_S_Tr_scr,RF_S_Tst_scr]\\\n",
    "    })\n",
    "final_results   "
   ]
  },
  {
   "cell_type": "markdown",
   "metadata": {},
   "source": [
    "# Conclusions\n",
    "* After scaling the data, Logistic Regression outperformed Random Forest Classifier. \n",
    "    * 2020 First Quarter score for Logistic Regression : **0.754268** \n",
    "    * 2020 First Quarter score for Random Forest       : **0.613607** \n",
    "    \n",
    "#### LogisticRegression Model Performed well on this Data and we can conclude that it is the right Model to predict whether a loan from LendingClub will become high risk or not.    "
   ]
  }
 ],
 "metadata": {
  "interpreter": {
   "hash": "eb0a5deb85624cf39522bd9ea766efe3b585b85d5e69ded4a98e5c69611b9570"
  },
  "kernelspec": {
   "display_name": "Python 3.8.5 64-bit ('base': conda)",
   "name": "python3"
  },
  "language_info": {
   "codemirror_mode": {
    "name": "ipython",
    "version": 3
   },
   "file_extension": ".py",
   "mimetype": "text/x-python",
   "name": "python",
   "nbconvert_exporter": "python",
   "pygments_lexer": "ipython3",
   "version": "3.8.5"
  }
 },
 "nbformat": 4,
 "nbformat_minor": 4
}
