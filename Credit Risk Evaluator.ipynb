{
 "cells": [
  {
   "cell_type": "markdown",
   "metadata": {},
   "source": [
    "# Predicting Credit Risk\n",
    "**Supervised Machine Learning**\n",
    "\n",
    "## Objective \n",
    "* To build a machine learning model that attempts to predict whether a loan from LendingClub will become high risk or not.\n",
    "\n",
    "## Background\n",
    "LendingClub is a peer-to-peer lending services company that allows individual investors to partially fund personal loans as well as buy and sell notes backing the loans on a secondary market. LendingClub offers their previous data through an API.\n",
    "Task was to use this data to create machine learning models to classify the risk level of given loans. Specifically, would be comparing the Logistic Regression model and Random Forest Classifier.\n",
    "___________________________________________________________________________________________________\n",
    "## Dowloaded the latest version of datasets from [https://resources.lendingclub.com](https://resources.lendingclub.com)\n",
    "#### Retrieved and prepared the data using [GenerateData.ipynb](Resources/Generator/GenerateData.ipynb)\n",
    "\n",
    "GenerateData.ipynb does the following\n",
    "\n",
    "* Reads the csv files that has been dowloaded from LendingClub.  \n",
    "\n",
    "* Cleans the data and creates two CSVs that have been undersampled to give an evennumber of high risk and low risk loans.\n",
    "   \n",
    "    * 2019loans.csv  \n",
    "    * 2020Q1loans.csv\n",
    "\n",
    "In the original dataset, only 2.2% of loans are categorized as high risk. To get a truly accurate model, special techniques need to be used on imbalanced data. Undersampling is one of those techniques.\n",
    "\n",
    "```python\n",
    "low_risk_rows.sample(n=len(high_risk_rows), random_state=42)\n",
    "```\n",
    "    \n",
    "Note : The newer version of csv's are slightly different compared to older version that was already available in the folder.\n",
    "\n",
    "## In this Notebook ('Credit Risk Evaluator.ipynb')\n",
    "* We are using an entire year's worth of data (2019) to predict the credit risk of loans from the first quarter of the next year (2020).\n",
    "\n",
    "## Logistic regression Vs. Random Forests Classifier\n",
    "\n",
    "Both the models are popular in machine learning. They are both efficient in generating reliable models for predictive modelling.\n",
    "\n",
    "* Logistic regression is less complex, and less prone to over-fitting. \n",
    "* It does not really have any critical parameters to tune.\n",
    "* It performs best with scaled data.  \n",
    "<br />\n",
    "\n",
    "* Random Forest uses Decision trees that can be scaled to be complex, and hence more liable to over-fit. Pruning is applied to avoid this.\n",
    "* Although default parameters may work fine, Random Forests work best when they are tuned by applying parametes.\n",
    "* Random Forsests perfoms well with unscaled data. \n",
    "\n",
    "When creating a predictive model, both the techniques should be tried and the best performing model should be used.\n",
    "\n",
    "## A prediction as to which model will perform better before I created, fit, and scored the models. \n",
    "I predict Logistic regression will perform better because it works best for binany classification problems. The data in question has binary output belonging to one class or the other (High Risk, Low Risk).  \n",
    "However, there are a number of categorical and explanatory variables in the dataset that might make Random Forest a better predictor. \n",
    "I still stick with Logical Regression.\n",
    "\n",
    "**LET's FIND OUT**\n",
    "\n",
    "Steps :\n",
    "1. Converted categorical data to numeric and separated target feature for training data and testing data\n",
    "2. Encoded target values using class sklearn.preprocessing.LabelEncoder\n",
    "3. Added missing dummy variables to testing set\n",
    "4. Trained the Logistic Regression model on the unscaled data and printed the model score\n",
    "    * Adjusted hyperparameters on LR model on unscaled data to see if the score improves .\n",
    "        * Tried a few combinations to tune\n",
    "        * It did improve the Testing Data Score by 5%\n",
    "        * Takes longer execution time each time a parameter/parameters is/are changed\n",
    "6. Trained a Random Forest Classifier model on unscaled data and printed the model score  \n",
    "    * Adjusted hyperparameters to see if the score improves .  \n",
    "    To choose which hyperparameters to adjust, we could visualize with validation_curve, or conduct Exhaustive Grid Search. \n",
    "     * Used validation_curve and test the parameters 'n_estimators', 'max_depth', 'min_samples_split' by giving them a range of values.       \n",
    "     * Adjusted the Hyperparameters on RF Classifiers on unscaled data \n",
    "        * Tried a few combinations to tune\n",
    "        * It did NOT improve the Testing Data Score \n",
    "        * Takes longer execution time each time a parameter/parameters is/are changed\n",
    "## Results\n",
    "Unlike my prediction, The Random Forest Classifier performed far better then the logistic regression model on unscaled data.   \n",
    "2020 First Quarter score was : **0.491332** for Logistic regression model.  \n",
    "Random forest 2020 First Quarter score was : **0.683609** \n",
    "\n",
    "## Revisit the Preprocessing: Scale the data  \n",
    "\n",
    " * I predict that scaling data will considerably improve logistic regression model and it will outperform Random Forest Model. \n",
    " StandardScaler makes field values compareable by removing the mean and by scaling each feature/variable to unit variance.\n",
    " * We know that Random Forst Model is built on decision trees and ensemble methods that do not require feature scaling as they are not sensitive to the the variance in the data. Hence, we might not see significant improvement in Random Forest model.  \n",
    "\n",
    "#### Scaled Training and Testging sets using StandardScaler().fit_transform()  \n",
    "\n",
    "#### Trained the Logistic Regression model on the scaled data and printed the model score  \n",
    "\n",
    "* Logistic regression model improved considerably after scaling the data.\n",
    "\n",
    "#### Trained Random Forest Classifier model on the scaled data and printed the model score \n",
    "\n",
    "* Random Forest's performance did not improve with scaled data.\n",
    "* Logistice Regression outperformed Random Forest Classifier.  \n",
    "\n",
    "#### Included the following for Both Models:\n",
    "\n",
    "* Confusion matrices and classification reports to give us information about precision and recall in addition to accuracy. \n",
    "\n",
    "* Added Feature importance in descending order to tell us which feature had the most influence in creating an accurate model.\n",
    "\n",
    "## Conclusions  \n",
    "\n",
    "* After scaling the data, Logistic Regression outperformed Random Forest Classifier.  \n",
    "    * 2020 First Quarter score for Logistic Regression : **0.754268** \n",
    "    * 2020 First Quarter score for Random Forest       : **0.613607**  \n",
    "    \n",
    "#### LogisticRegression Model Performed well on this Data and we can conclude that it is the right Model to predict whether a loan from LendingClub will become high risk or not."
   ]
  },
  {
   "cell_type": "code",
   "execution_count": 105,
   "metadata": {},
   "outputs": [],
   "source": [
    "import numpy as np\n",
    "import pandas as pd\n",
    "from pathlib import Path\n",
    "\n",
    "from sklearn.preprocessing import StandardScaler, LabelEncoder\n",
    "from sklearn.linear_model import LogisticRegression\n",
    "from sklearn.ensemble import RandomForestClassifier\n",
    "\n",
    "# To choose which hyperparameters to adjust, we could visualize with validation_curve\n",
    "from yellowbrick.model_selection import validation_curve\n",
    "\n",
    "# or conduct Exhaustive Grid Search.\n",
    "# from sklearn.model_selection import GridSearchCV\n",
    "\n",
    "from sklearn.metrics import confusion_matrix\n",
    "from sklearn.metrics import classification_report\n"
   ]
  },
  {
   "cell_type": "code",
   "execution_count": 3,
   "metadata": {},
   "outputs": [],
   "source": [
    "# !pip install yellowbrick"
   ]
  },
  {
   "cell_type": "code",
   "execution_count": 34,
   "metadata": {},
   "outputs": [],
   "source": [
    "train_df = pd.read_csv(Path('Resources/2019loans.csv'))\n",
    "test_df = pd.read_csv(Path('Resources/2020Q1loans.csv'))"
   ]
  },
  {
   "cell_type": "code",
   "execution_count": 35,
   "metadata": {},
   "outputs": [],
   "source": [
    "# Convert categorical data to numeric and separate target feature for training data\n",
    "# separate target feature for training data\n",
    "X_train = train_df.drop('target', axis=1)\n",
    "y_train = train_df['target']\n",
    "\n",
    "# Convert categorical data to numeric\n",
    "X_train = pd.get_dummies(X_train)\n",
    "\n",
    "# encoding target values using class sklearn.preprocessing.LabelEncoder\n",
    "y_train = LabelEncoder().fit_transform(y_train)"
   ]
  },
  {
   "cell_type": "code",
   "execution_count": 6,
   "metadata": {},
   "outputs": [],
   "source": [
    "# print(X_train)\n",
    "# print(y_train)"
   ]
  },
  {
   "cell_type": "code",
   "execution_count": 7,
   "metadata": {},
   "outputs": [],
   "source": [
    "# Convert categorical data to numeric and separate target feature for testing data\n",
    "\n",
    "# separate target feature for testing data\n",
    "X_test = test_df.drop('target', axis=1)\n",
    "y_test = test_df['target']\n",
    "\n",
    "# Convert categorical data to numeric\n",
    "X_test = pd.get_dummies(X_test)\n",
    "\n",
    "# encoding target values using class sklearn.preprocessing.LabelEncoder\n",
    "y_test = LabelEncoder().fit_transform(y_test)"
   ]
  },
  {
   "cell_type": "code",
   "execution_count": 115,
   "metadata": {},
   "outputs": [
    {
     "name": "stdout",
     "output_type": "stream",
     "text": [
      "[1 1 1 ... 0 0 0]\n"
     ]
    }
   ],
   "source": [
    "# print(X_test)\n",
    "# print(y_test)"
   ]
  },
  {
   "cell_type": "code",
   "execution_count": 9,
   "metadata": {},
   "outputs": [],
   "source": [
    "# add missing dummy variables to testing set\n",
    "# Compare fields from train to test. If there is field in traning dataset that is not in testing set , add it to X_test\n",
    "for colmn in X_train.columns:\n",
    "    if colmn not in X_test.columns:\n",
    "        X_test[colmn] = 0\n",
    "     "
   ]
  },
  {
   "cell_type": "markdown",
   "metadata": {},
   "source": [
    "I predict Logistic regression will perform better because it works best for binany classification problems. The data in question has binary out put belonging to one class or the other (Low Risk or High Risk (1,0))\n",
    "However, there are a number of categorical and explanatory variables in the dataset that might make Random Forest a better predictor. I still stick with Logical Regression.  \n",
    "#### Let's Find Out"
   ]
  },
  {
   "cell_type": "markdown",
   "metadata": {},
   "source": [
    "## Train the Logistic Regression model on the unscaled data and print the model score"
   ]
  },
  {
   "cell_type": "code",
   "execution_count": 10,
   "metadata": {},
   "outputs": [
    {
     "name": "stdout",
     "output_type": "stream",
     "text": [
      "Training data scrore : 0.7245338264755741\n",
      "Testing data scrore : 0.44102968216443394\n"
     ]
    }
   ],
   "source": [
    "# Train the Logistic Regression model on the unscaled data\n",
    "model_unscaled = LogisticRegression(max_iter=10000)\n",
    "model_unscaled.fit(X_train, y_train)\n",
    "\n",
    "LR_US_Tr_scr = model_unscaled.score(X_train, y_train)\n",
    "LR_US_Tst_scr = model_unscaled.score(X_test, y_test)\n",
    "# Print the model score\n",
    "print(f\"Training data scrore : {LR_US_Tr_scr}\")\n",
    "print(f\"Testing data scrore : {LR_US_Tst_scr}\")\n",
    "\n"
   ]
  },
  {
   "cell_type": "markdown",
   "metadata": {},
   "source": [
    "Adjusting hyperparameters to see if the score improves ."
   ]
  },
  {
   "cell_type": "code",
   "execution_count": 11,
   "metadata": {},
   "outputs": [
    {
     "name": "stdout",
     "output_type": "stream",
     "text": [
      "Training data scrore : 0.6311450146401603\n",
      "Testing data scrore : 0.4913317572892041\n"
     ]
    }
   ],
   "source": [
    "\n",
    "#model_unscaled = LogisticRegression(solver=\"saga\", max_iter=10000, C=3.2, penalty='l2')\n",
    "model_unscaled = LogisticRegression(solver=\"sag\", max_iter=10000, C=2.5, penalty='l2')\n",
    "model_unscaled.fit(X_train, y_train)\n",
    "\n",
    "LR_US_Tr_Par_scr = model_unscaled.score(X_train, y_train)\n",
    "LR_US_Tst_Par_scr = model_unscaled.score(X_test, y_test)\n",
    "\n",
    "# Print the model score\n",
    "print(f\"Training data scrore : {LR_US_Tr_Par_scr}\")\n",
    "print(f\"Testing data scrore : {LR_US_Tst_Par_scr}\")"
   ]
  },
  {
   "cell_type": "code",
   "execution_count": 12,
   "metadata": {},
   "outputs": [
    {
     "name": "stdout",
     "output_type": "stream",
     "text": [
      "0.05030207512477014\n"
     ]
    }
   ],
   "source": [
    "print(LR_US_Tst_Par_scr - LR_US_Tst_scr)"
   ]
  },
  {
   "cell_type": "markdown",
   "metadata": {},
   "source": [
    "#### Adjusting the Hyperparameters on LR model on unscaled data \n",
    "* Tried a few combinations to tune\n",
    "* It did improve the Testing Data Score by 5%\n",
    "* Takes longer execution time each time a parameter/parameters is/are changed\n"
   ]
  },
  {
   "cell_type": "markdown",
   "metadata": {},
   "source": [
    "## Train a Random Forest Classifier model on unscaled data and print the model score\n"
   ]
  },
  {
   "cell_type": "code",
   "execution_count": 13,
   "metadata": {},
   "outputs": [
    {
     "name": "stdout",
     "output_type": "stream",
     "text": [
      "Training data scrore : 1.0\n",
      "Testing data scrore : 0.6724454951405306\n"
     ]
    }
   ],
   "source": [
    "# Train the Random Forest Classifier model on unscaled data\n",
    "model_unscaledRF = RandomForestClassifier()\n",
    "model_unscaledRF.fit(X_train, y_train)\n",
    "\n",
    "# Print the model score\n",
    "RF_US_Tr_scr  = model_unscaledRF.score(X_train, y_train)\n",
    "RF_US_Tst_scr = model_unscaledRF.score(X_test, y_test)\n",
    "\n",
    "\n",
    "print(f\"Training data scrore : {RF_US_Tr_scr}\")\n",
    "print(f\"Testing data scrore : {RF_US_Tst_scr}\")"
   ]
  },
  {
   "cell_type": "markdown",
   "metadata": {},
   "source": [
    "Adjusting hyperparameters to see if the score improves .  \n",
    "To choose which hyperparameters to adjust, we could visualize with validation_curve, or conduct Exhaustive Grid Search. Here we are using validation_curve and test the parameters 'n_estimators', 'max_depth', 'min_samples_split'by giving them a range of values. "
   ]
  },
  {
   "cell_type": "code",
   "execution_count": 14,
   "metadata": {},
   "outputs": [
    {
     "data": {
      "image/png": "[encoded data removed]",
      "text/plain": [
       "<Figure size 576x396 with 1 Axes>"
      ]
     },
     "metadata": {},
     "output_type": "display_data"
    },
    {
     "name": "stdout",
     "output_type": "stream",
     "text": [
      "ValidationCurve(ax=<AxesSubplot:title={'center':'Validation Curve for RandomForestClassifier'}, xlabel='n_estimators', ylabel='score'>,\n",
      "                cv=3, estimator=RandomForestClassifier(), n_jobs=-1,\n",
      "                param_name='n_estimators',\n",
      "                param_range=array([ 31, 100, 200, 300]), scoring='accuracy')\n"
     ]
    }
   ],
   "source": [
    "print(validation_curve(model_unscaledRF, X_train, y_train, param_name=\"n_estimators\", n_jobs=-1,\n",
    "      param_range = [31,100,200,300], cv=3, scoring=\"accuracy\"))"
   ]
  },
  {
   "cell_type": "code",
   "execution_count": 15,
   "metadata": {},
   "outputs": [
    {
     "data": {
      "image/png": "[encoded data removed]",
      "text/plain": [
       "<Figure size 576x396 with 1 Axes>"
      ]
     },
     "metadata": {},
     "output_type": "display_data"
    },
    {
     "name": "stdout",
     "output_type": "stream",
     "text": [
      "ValidationCurve(ax=<AxesSubplot:title={'center':'Validation Curve for RandomForestClassifier'}, xlabel='max_depth', ylabel='score'>,\n",
      "                cv=3, estimator=RandomForestClassifier(), n_jobs=-1,\n",
      "                param_name='max_depth', param_range=array([10, 20, 60, 80]),\n",
      "                scoring='accuracy')\n"
     ]
    }
   ],
   "source": [
    "print(validation_curve(model_unscaledRF, X_train, y_train, param_name=\"max_depth\", n_jobs=-1,\n",
    "      param_range = [10,20,60,80], cv=3, scoring=\"accuracy\"))"
   ]
  },
  {
   "cell_type": "code",
   "execution_count": 16,
   "metadata": {},
   "outputs": [
    {
     "data": {
      "image/png": "[encoded data removed]",
      "text/plain": [
       "<Figure size 576x396 with 1 Axes>"
      ]
     },
     "metadata": {},
     "output_type": "display_data"
    },
    {
     "name": "stdout",
     "output_type": "stream",
     "text": [
      "ValidationCurve(ax=<AxesSubplot:title={'center':'Validation Curve for RandomForestClassifier'}, xlabel='min_samples_split', ylabel='score'>,\n",
      "                cv=3, estimator=RandomForestClassifier(), n_jobs=-1,\n",
      "                param_name='min_samples_split',\n",
      "                param_range=array([ 2,  4,  6,  8, 10]), scoring='accuracy')\n"
     ]
    }
   ],
   "source": [
    "print(validation_curve(model_unscaledRF, X_train, y_train, param_name=\"min_samples_split\", n_jobs=-1,\n",
    "      param_range = [2,4,6,8,10], cv=3, scoring=\"accuracy\"))"
   ]
  },
  {
   "cell_type": "code",
   "execution_count": 17,
   "metadata": {},
   "outputs": [
    {
     "name": "stdout",
     "output_type": "stream",
     "text": [
      "Training data scrore : 0.9999229465248882\n",
      "Testing data scrore : 0.6675860257420541\n"
     ]
    }
   ],
   "source": [
    "# Train the Random Forest Classifier model on unscaled data using best parameters from validation_curve.\n",
    "model_unscaledRF = RandomForestClassifier(n_estimators=300, max_depth=30, min_samples_split=5)\n",
    "model_unscaledRF.fit(X_train, y_train)\n",
    "\n",
    "\n",
    "\n",
    "# Print the model score\n",
    "RF_US_Tr_Par_scr  = model_unscaledRF.score(X_train, y_train)\n",
    "RF_US_Tst_Par_scr = model_unscaledRF.score(X_test, y_test)\n",
    "\n",
    "\n",
    "print(f\"Training data scrore : {RF_US_Tr_Par_scr}\")\n",
    "print(f\"Testing data scrore : {RF_US_Tst_Par_scr}\")"
   ]
  },
  {
   "cell_type": "code",
   "execution_count": 18,
   "metadata": {},
   "outputs": [
    {
     "name": "stdout",
     "output_type": "stream",
     "text": [
      "Training data scrore : 0.9998458930497766\n",
      "Testing data scrore : 0.6707381140005253\n"
     ]
    }
   ],
   "source": [
    "\n",
    "model_unscaledRF = RandomForestClassifier(n_estimators=31)\n",
    "# model_unscaledRF = RandomForestClassifier(max_features=0.4, n_estimators = 31, min_samples_leaf=64)\n",
    "#model_unscaledRF = RandomForestClassifier(n_estimators = 31, oob_score = True,n_jobs = -1,random_state =1)\n",
    "model_unscaledRF.fit(X_train, y_train)\n",
    "\n",
    "# Print the model score\n",
    "RF_US_Tr_Par_scr  = model_unscaledRF.score(X_train, y_train)\n",
    "RF_US_Tst_Par_scr = model_unscaledRF.score(X_test, y_test)\n",
    "\n",
    "\n",
    "print(f\"Training data scrore : {RF_US_Tr_Par_scr}\")\n",
    "print(f\"Testing data scrore : {RF_US_Tst_Par_scr}\")"
   ]
  },
  {
   "cell_type": "markdown",
   "metadata": {},
   "source": [
    "**Tried a few parameters but the best score was for n_estimators=31**"
   ]
  },
  {
   "cell_type": "code",
   "execution_count": 19,
   "metadata": {},
   "outputs": [
    {
     "name": "stdout",
     "output_type": "stream",
     "text": [
      "-0.0017073811400053485\n"
     ]
    }
   ],
   "source": [
    "print(RF_US_Tst_Par_scr - RF_US_Tst_scr)"
   ]
  },
  {
   "cell_type": "markdown",
   "metadata": {},
   "source": [
    "#### Adjusting the Hyperparameters on RF Classifiers  on unscaled data \n",
    "* Tried a few combinations to tune\n",
    "* It did NOT improve the Testing Data Score \n",
    "* Takes longer execution time each time a parameter/parameters is/are changed"
   ]
  },
  {
   "cell_type": "markdown",
   "metadata": {},
   "source": [
    "## Results\n",
    "Unlike my prediction, The Random Forest Classifier performed far better then the logistic regression model.   \n",
    "2020 First Quarter score was : **0.4913317572892041** for Logistic regression model.  \n",
    "Random forest 2020 First Quarter score was : **0.6825584449697925**"
   ]
  },
  {
   "cell_type": "code",
   "execution_count": 20,
   "metadata": {},
   "outputs": [
    {
     "data": {
      "text/html": [
       "<div>\n",
       "<style scoped>\n",
       "    .dataframe tbody tr th:only-of-type {\n",
       "        vertical-align: middle;\n",
       "    }\n",
       "\n",
       "    .dataframe tbody tr th {\n",
       "        vertical-align: top;\n",
       "    }\n",
       "\n",
       "    .dataframe thead th {\n",
       "        text-align: right;\n",
       "    }\n",
       "</style>\n",
       "<table border=\"1\" class=\"dataframe\">\n",
       "  <thead>\n",
       "    <tr style=\"text-align: right;\">\n",
       "      <th></th>\n",
       "      <th>Dataset</th>\n",
       "      <th>Logistic Reg UnScaled</th>\n",
       "      <th>Random Forest UnScaled</th>\n",
       "    </tr>\n",
       "  </thead>\n",
       "  <tbody>\n",
       "    <tr>\n",
       "      <th>0</th>\n",
       "      <td>2019loans(Training)</td>\n",
       "      <td>0.724534</td>\n",
       "      <td>1.000000</td>\n",
       "    </tr>\n",
       "    <tr>\n",
       "      <th>1</th>\n",
       "      <td>2020Q1loans(Testing)</td>\n",
       "      <td>0.491332</td>\n",
       "      <td>0.672445</td>\n",
       "    </tr>\n",
       "  </tbody>\n",
       "</table>\n",
       "</div>"
      ],
      "text/plain": [
       "                Dataset  Logistic Reg UnScaled  Random Forest UnScaled\n",
       "0   2019loans(Training)               0.724534                1.000000\n",
       "1  2020Q1loans(Testing)               0.491332                0.672445"
      ]
     },
     "execution_count": 20,
     "metadata": {},
     "output_type": "execute_result"
    }
   ],
   "source": [
    "if (LR_US_Tst_Par_scr >= LR_US_Tst_scr):\n",
    "    LR_US_Tst_scr = LR_US_Tst_Par_scr\n",
    "if (RF_US_Tst_Par_scr >= RF_US_Tst_scr):\n",
    "    RF_US_Tst_scr = RF_US_Tst_Par_scr    \n",
    "if (LR_US_Tr_Par_scr >= LR_US_Tr_scr):\n",
    "    LR_US_Tr_scr = LR_US_Tr_Par_scr\n",
    "if (RF_US_Tr_Par_scr >= RF_US_Tr_scr):\n",
    "    RF_US_Tr_scr = RF_US_Tr_Par_scr        \n",
    "\n",
    "# pd.DataFrame(data=[[LR_US_Tst_scr,RF_US_Tst_scr]], \n",
    "# columns=['Logistic Reg UnScaled', 'Random Forest UnScaled'])\n",
    "\n",
    "final_results_us = pd.DataFrame(\n",
    "    data={'Dataset':['2019loans(Training)', '2020Q1loans(Testing)'], \\\n",
    "    'Logistic Reg UnScaled':[LR_US_Tr_scr,LR_US_Tst_scr],\\\n",
    "    'Random Forest UnScaled':[RF_US_Tr_scr,RF_US_Tst_scr]\n",
    "    })\n",
    "final_results_us"
   ]
  },
  {
   "cell_type": "markdown",
   "metadata": {},
   "source": [
    "# Revisit the Preprocessing: Scale the data\n",
    " * I predict that scaling data will considerably improve logistic regression model and it will outperform Random Forest Model. \n",
    " StandardScaler makes field values compareable by removing the mean and by scaling each feature/variable to unit variance.\n",
    " * We know that Random Forst Model is built on decision trees and ensemble methods that do not require feature scaling as they are not sensitive to the the variance in the data. Hence, we might not see significant improvement in Random Forest model.\n"
   ]
  },
  {
   "cell_type": "code",
   "execution_count": 21,
   "metadata": {},
   "outputs": [],
   "source": [
    "# Data before scaling\n",
    "#X_train"
   ]
  },
  {
   "cell_type": "code",
   "execution_count": 73,
   "metadata": {},
   "outputs": [],
   "source": [
    "X_train_scaled = StandardScaler().fit_transform(X_train)\n",
    "# display(X_train_scaled)\n",
    "\n",
    "X_test_scaled = StandardScaler().fit_transform(X_test)\n",
    "# display(X_test_scaled)"
   ]
  },
  {
   "cell_type": "code",
   "execution_count": 23,
   "metadata": {},
   "outputs": [],
   "source": [
    "# Data after scaling\n",
    "#X_train_scaled"
   ]
  },
  {
   "cell_type": "markdown",
   "metadata": {},
   "source": [
    "## Train the Logistic Regression model on the scaled data and print the model score\n"
   ]
  },
  {
   "cell_type": "code",
   "execution_count": 24,
   "metadata": {},
   "outputs": [
    {
     "name": "stdout",
     "output_type": "stream",
     "text": [
      "Training data scrore : 0.7320080135614117\n",
      "Testing data scrore : 0.7542684528500131\n"
     ]
    }
   ],
   "source": [
    "model_scaledLR = LogisticRegression(solver=\"sag\", max_iter=10000, C=2.5, penalty='l2')\n",
    "model_scaledLR.fit(X_train_scaled, y_train)\n",
    "\n",
    "# Print the model score\n",
    "LR_S_Tr_scr  = model_scaledLR.score(X_train_scaled, y_train)\n",
    "LR_S_Tst_scr = model_scaledLR.score(X_test_scaled, y_test)\n",
    "\n",
    "\n",
    "print(f\"Training data scrore : {LR_S_Tr_scr}\")\n",
    "print(f\"Testing data scrore : {LR_S_Tst_scr}\")\n",
    "\n",
    "# model_scaledLR.score(X_test_scaled, y_test)"
   ]
  },
  {
   "cell_type": "markdown",
   "metadata": {},
   "source": [
    "Predictions"
   ]
  },
  {
   "cell_type": "code",
   "execution_count": 111,
   "metadata": {},
   "outputs": [
    {
     "name": "stdout",
     "output_type": "stream",
     "text": [
      "First 16 predictions:   [1 1 1 0 1 1 1 0 1 0 1 1 0 1 0 1]\n",
      "First 16 actual labels: [1, 1, 1, 1, 1, 1, 1, 1, 1, 1, 1, 1, 1, 1, 1, 1]\n"
     ]
    }
   ],
   "source": [
    "predictions = model_scaledLR.predict(X_test_scaled)\n",
    "print(f\"First 16 predictions:   {predictions[:16]}\")\n",
    "print(f\"First 16 actual labels: {y_test[:16].tolist()}\")"
   ]
  },
  {
   "cell_type": "markdown",
   "metadata": {},
   "source": [
    "Confusion Matrix"
   ]
  },
  {
   "cell_type": "code",
   "execution_count": 112,
   "metadata": {},
   "outputs": [
    {
     "data": {
      "text/plain": [
       "array([[2896,  911],\n",
       "       [ 960, 2847]], dtype=int64)"
      ]
     },
     "execution_count": 112,
     "metadata": {},
     "output_type": "execute_result"
    }
   ],
   "source": [
    "y_true = y_test\n",
    "y_pred = model_scaledLR.predict(X_test_scaled)\n",
    "confusion_matrix(y_true, y_pred)\n"
   ]
  },
  {
   "cell_type": "markdown",
   "metadata": {},
   "source": [
    "Accuracy of the model"
   ]
  },
  {
   "cell_type": "code",
   "execution_count": 113,
   "metadata": {},
   "outputs": [
    {
     "name": "stdout",
     "output_type": "stream",
     "text": [
      "Accuracy : 0.7542684528500131\n"
     ]
    }
   ],
   "source": [
    "tn, fp, fn, tp = confusion_matrix(y_true, y_pred).ravel()\n",
    "accuracy = (tp + tn) / (tp + fp + tn + fn)\n",
    "print(f\"Accuracy : {accuracy}\")"
   ]
  },
  {
   "cell_type": "markdown",
   "metadata": {},
   "source": [
    "Classification Report"
   ]
  },
  {
   "cell_type": "code",
   "execution_count": 114,
   "metadata": {},
   "outputs": [
    {
     "name": "stdout",
     "output_type": "stream",
     "text": [
      "              precision    recall  f1-score   support\n",
      "\n",
      "           0       0.75      0.76      0.76      3807\n",
      "           1       0.76      0.75      0.75      3807\n",
      "\n",
      "    accuracy                           0.75      7614\n",
      "   macro avg       0.75      0.75      0.75      7614\n",
      "weighted avg       0.75      0.75      0.75      7614\n",
      "\n"
     ]
    }
   ],
   "source": [
    "print (classification_report(y_true, y_pred))"
   ]
  },
  {
   "cell_type": "code",
   "execution_count": 84,
   "metadata": {},
   "outputs": [],
   "source": [
    "importance = model_scaledLR.coef_[0] #a variable that has values only after we run the model\n",
    "important_features_list = []\n",
    "for i in range(len(importance)):\n",
    "    important_features_list.append((X_train.columns[i], importance[i]))\n",
    "    \n",
    "important_features_list = sorted(important_features_list, key = lambda x: x[1],reverse=True)    "
   ]
  },
  {
   "cell_type": "markdown",
   "metadata": {},
   "source": [
    "#### Feature list in the order of importance displaying which feature had the most influence in creating an accurate model.\n"
   ]
  },
  {
   "cell_type": "code",
   "execution_count": 123,
   "metadata": {},
   "outputs": [
    {
     "name": "stdout",
     "output_type": "stream",
     "text": [
      "Feature list in the order of importance\n",
      "---------------------------------------\n",
      "total_rec_prncp : 1.0016035622530264\n",
      "last_pymnt_amnt : 0.805692965146976\n",
      "total_pymnt : 0.7032565407831415\n",
      "total_pymnt_inv : 0.6900965163038859\n",
      "loan_amnt : 0.5758808155447004\n",
      "total_il_high_credit_limit : 0.27946274009545286\n",
      "total_bc_limit : 0.2765034520380166\n",
      "open_rv_24m : 0.08609486647203694\n",
      "pct_tl_nvr_dlq : 0.08190903517298564\n",
      "home_ownership_MORTGAGE : 0.07423770829124536\n",
      "num_actv_bc_tl : 0.07330631789200404\n",
      "mths_since_recent_inq : 0.07226602908881706\n",
      "mo_sin_old_rev_tl_op : 0.07092572210890566\n",
      "num_op_rev_tl : 0.07031742387801745\n",
      "open_rv_12m : 0.07026885733830004\n",
      "out_prncp_inv : 0.06658931066949367\n",
      "out_prncp : 0.06514592939258995\n",
      "num_bc_tl : 0.0642484375551755\n",
      "open_il_12m : 0.0531814737571914\n",
      "mo_sin_old_il_acct : 0.0529249181111673\n",
      "revol_bal : 0.051062100678284005\n",
      "hardship_flag_N : 0.05095506348994512\n",
      "mo_sin_rcnt_rev_tl_op : 0.0508371887661812\n",
      "open_il_24m : 0.048814174415693266\n",
      "open_acc : 0.045185484947793154\n",
      "open_act_il : 0.0443091545282676\n",
      "total_rev_hi_lim : 0.043232403417095513\n",
      "all_util : 0.040140098126603636\n",
      "verification_status_Not Verified : 0.03664352045449405\n",
      "max_bal_bc : 0.035164027410045484\n",
      "bc_util : 0.034866561059940154\n",
      "mths_since_recent_bc : 0.033969468257953356\n",
      "tot_hi_cred_lim : 0.03324724588189156\n",
      "num_accts_ever_120_pd : 0.030460948237886944\n",
      "mort_acc : 0.029916536570957504\n",
      "avg_cur_bal : 0.02706452041967535\n",
      "inq_fi : 0.025544944702837306\n",
      "dti : 0.02545998420096929\n",
      "application_type_Individual : 0.02371227698213101\n",
      "num_tl_90g_dpd_24m : 0.018646913999253372\n",
      "initial_list_status_w : 0.015222094315364901\n",
      "num_sats : 0.014800273714140161\n",
      "pub_rec : 0.010794122191365578\n",
      "pub_rec_bankruptcies : 0.010794122191365578\n",
      "mths_since_rcnt_il : 0.010715491443595149\n",
      "annual_inc : 0.010075414154372053\n",
      "total_cu_tl : 0.008908465747200094\n",
      "delinq_2yrs : 0.007273581207546919\n",
      "chargeoff_within_12_mths : 0.00535761114848862\n",
      "verification_status_Source Verified : 0.004179753624567988\n",
      "num_rev_accts : 0.003630567153357547\n",
      "inq_last_6mths : 0.003252753464706588\n",
      "recoveries : 0.0\n",
      "collection_recovery_fee : 0.0\n",
      "policy_code : 0.0\n",
      "acc_now_delinq : 0.0\n",
      "num_tl_120dpd_2m : 0.0\n",
      "num_tl_30dpd : 0.0\n",
      "tax_liens : 0.0\n",
      "pymnt_plan_n : 0.0\n",
      "debt_settlement_flag_N : 0.0\n",
      "num_rev_tl_bal_gt_0 : -0.0030621085888781294\n",
      "int_rate : -0.006690124522186331\n",
      "open_acc_6m : -0.006729937440715686\n",
      "tot_coll_amt : -0.009373723051089774\n",
      "collections_12_mths_ex_med : -0.015122273815254644\n",
      "initial_list_status_f : -0.015222094315364901\n",
      "inq_last_12m : -0.018913858609487917\n",
      "num_il_tl : -0.021170827478754293\n",
      "application_type_Joint App : -0.02371227698213101\n",
      "delinq_amnt : -0.02820275543105468\n",
      "il_util : -0.03784618677265412\n",
      "home_ownership_OWN : -0.03928965535708069\n",
      "home_ownership_RENT : -0.04095849255268144\n",
      "mo_sin_rcnt_tl : -0.04126237801820125\n",
      "hardship_flag_Y : -0.05095506348993764\n",
      "verification_status_Verified : -0.05484202662894848\n",
      "home_ownership_ANY : -0.06365632812058221\n",
      "total_bal_il : -0.07844018158026404\n",
      "num_tl_op_past_12m : -0.09003552818675406\n",
      "percent_bc_gt_75 : -0.09350389772288129\n",
      "tot_cur_bal : -0.10245655746358687\n",
      "total_acc : -0.10634535024142903\n",
      "num_actv_rev_tl : -0.11015187460433983\n",
      "bc_open_to_buy : -0.134395133116735\n",
      "total_bal_ex_mort : -0.16715540806715184\n",
      "num_bc_sats : -0.17036778906158973\n",
      "total_rec_int : -0.17240382585704747\n",
      "acc_open_past_24mths : -0.1881860898717246\n",
      "total_rec_late_fee : -0.966757834283541\n",
      "installment : -3.1606592856657563\n"
     ]
    }
   ],
   "source": [
    "print (\"Feature list in the order of importance\")\n",
    "print (\"---------------------------------------\")\n",
    "for i in range(len(important_features_list)):\n",
    "    print(f\"{important_features_list[i][0]} : {important_features_list[i][1]}\")"
   ]
  },
  {
   "cell_type": "code",
   "execution_count": 98,
   "metadata": {},
   "outputs": [],
   "source": [
    "# import matplotlib.pyplot as plt\n",
    "# df = pd.DataFrame(important_features_list, columns =['Feature', 'Importance'])\n",
    "# plt.figure(figsize=(20,4))\n",
    "# plt.bar(df['Feature'], df['Importance'])\n",
    "# plt.xticks(rotation=90)\n",
    "# plt.show()"
   ]
  },
  {
   "cell_type": "markdown",
   "metadata": {},
   "source": [
    "* **Logistic regression model improved considerably after scaling the data.**\n",
    "* Checked accuray using Confusion Matrix"
   ]
  },
  {
   "cell_type": "markdown",
   "metadata": {},
   "source": [
    "## Train a Random Forest Classifier model on the scaled data and print the model score"
   ]
  },
  {
   "cell_type": "code",
   "execution_count": 25,
   "metadata": {},
   "outputs": [
    {
     "name": "stdout",
     "output_type": "stream",
     "text": [
      "Training data scrore : 1.0\n",
      "Testing data scrore : 0.6238508011557657\n"
     ]
    }
   ],
   "source": [
    "model_scaledRF = RandomForestClassifier(n_estimators=31)\n",
    "model_scaledRF.fit(X_train_scaled, y_train)\n",
    "# model_scaledRF.score(X_test_scaled, y_test)\n",
    "\n",
    "\n",
    "# Print the model score\n",
    "RF_S_Tr_scr  = model_scaledRF.score(X_train_scaled, y_train)\n",
    "RF_S_Tst_scr = model_scaledRF.score(X_test_scaled, y_test)\n",
    "\n",
    "\n",
    "print(f\"Training data scrore : {RF_S_Tr_scr}\")\n",
    "print(f\"Testing data scrore : {RF_S_Tst_scr}\")"
   ]
  },
  {
   "cell_type": "markdown",
   "metadata": {},
   "source": [
    "* Random Forest has no positive effect with scaled data. It did Not improve.\n",
    "* Logistice Regression outperformed random Forest Classifier."
   ]
  },
  {
   "cell_type": "markdown",
   "metadata": {},
   "source": [
    "Predictions"
   ]
  },
  {
   "cell_type": "code",
   "execution_count": 116,
   "metadata": {},
   "outputs": [
    {
     "name": "stdout",
     "output_type": "stream",
     "text": [
      "First 16 predictions:   [1 0 0 0 0 0 0 0 0 0 0 0 0 0 0 0]\n",
      "First 16 actual labels: [1, 1, 1, 1, 1, 1, 1, 1, 1, 1, 1, 1, 1, 1, 1, 1]\n"
     ]
    }
   ],
   "source": [
    "predictions = model_scaledRF.predict(X_test_scaled)\n",
    "print(f\"First 16 predictions:   {predictions[:16]}\")\n",
    "print(f\"First 16 actual labels: {y_test[:16].tolist()}\")"
   ]
  },
  {
   "cell_type": "markdown",
   "metadata": {},
   "source": [
    "Confusion Matrix"
   ]
  },
  {
   "cell_type": "code",
   "execution_count": 119,
   "metadata": {},
   "outputs": [
    {
     "data": {
      "text/plain": [
       "array([[3686,  121],\n",
       "       [2743, 1064]], dtype=int64)"
      ]
     },
     "execution_count": 119,
     "metadata": {},
     "output_type": "execute_result"
    }
   ],
   "source": [
    "y_true = y_test\n",
    "y_pred = model_scaledRF.predict(X_test_scaled)\n",
    "confusion_matrix(y_true, y_pred)"
   ]
  },
  {
   "cell_type": "markdown",
   "metadata": {},
   "source": [
    "Accuracy of the model"
   ]
  },
  {
   "cell_type": "code",
   "execution_count": 118,
   "metadata": {},
   "outputs": [
    {
     "name": "stdout",
     "output_type": "stream",
     "text": [
      "Accuracy : 0.6238508011557657\n"
     ]
    }
   ],
   "source": [
    "tn, fp, fn, tp = confusion_matrix(y_true, y_pred).ravel()\n",
    "accuracy = (tp + tn) / (tp + fp + tn + fn)\n",
    "print(f\"Accuracy : {accuracy}\")"
   ]
  },
  {
   "cell_type": "markdown",
   "metadata": {},
   "source": [
    "Classification Report"
   ]
  },
  {
   "cell_type": "code",
   "execution_count": 108,
   "metadata": {},
   "outputs": [
    {
     "name": "stdout",
     "output_type": "stream",
     "text": [
      "              precision    recall  f1-score   support\n",
      "\n",
      "           0       0.57      0.97      0.72      3807\n",
      "           1       0.90      0.28      0.43      3807\n",
      "\n",
      "    accuracy                           0.62      7614\n",
      "   macro avg       0.74      0.62      0.57      7614\n",
      "weighted avg       0.74      0.62      0.57      7614\n",
      "\n"
     ]
    }
   ],
   "source": [
    "print (classification_report(y_true, y_pred))"
   ]
  },
  {
   "cell_type": "code",
   "execution_count": 109,
   "metadata": {},
   "outputs": [],
   "source": [
    "features = model_scaledRF.feature_importances_\n",
    "features_list = []\n",
    "for i in range(len(features)):\n",
    "    features_list.append((X_train.columns[i], features[i]))\n",
    "    \n",
    "features_list = sorted(features_list, key = lambda x: x[1],reverse=True)\n"
   ]
  },
  {
   "cell_type": "markdown",
   "metadata": {},
   "source": [
    "#### Feature list in the order of importance displaying which feature had the most influence in creating an accurate model.\n"
   ]
  },
  {
   "cell_type": "code",
   "execution_count": 122,
   "metadata": {},
   "outputs": [
    {
     "name": "stdout",
     "output_type": "stream",
     "text": [
      "Feature list in the order of importance\n",
      "---------------------------------------\n",
      "last_pymnt_amnt : 0.10355590305194362\n",
      "out_prncp : 0.038945797860908994\n",
      "out_prncp_inv : 0.0388420119561247\n",
      "total_rec_prncp : 0.038387368334108864\n",
      "installment : 0.0321444893835238\n",
      "int_rate : 0.03197042615524554\n",
      "total_rec_int : 0.02886186302915132\n",
      "total_pymnt_inv : 0.026499410320069895\n",
      "total_pymnt : 0.023669995807907657\n",
      "mo_sin_old_rev_tl_op : 0.020901582692842587\n",
      "total_bc_limit : 0.019953289070616803\n",
      "total_rev_hi_lim : 0.018334297549019905\n",
      "mo_sin_old_il_acct : 0.018073637213046324\n",
      "max_bal_bc : 0.017072910997394542\n",
      "dti : 0.01698717591141569\n",
      "bc_open_to_buy : 0.016758872173557267\n",
      "total_rec_late_fee : 0.01633328375461373\n",
      "il_util : 0.016304253719855707\n",
      "bc_util : 0.016012396862346987\n",
      "revol_bal : 0.01582245909919374\n",
      "total_il_high_credit_limit : 0.01578068226221055\n",
      "mths_since_recent_bc : 0.015409805198390508\n",
      "loan_amnt : 0.015360664599076472\n",
      "annual_inc : 0.015266233447013609\n",
      "avg_cur_bal : 0.015157968376451598\n",
      "tot_hi_cred_lim : 0.01504832639839081\n",
      "all_util : 0.014779363642381685\n",
      "total_bal_ex_mort : 0.014669366002539623\n",
      "total_bal_il : 0.014617170737450676\n",
      "tot_cur_bal : 0.014596730972528029\n",
      "total_acc : 0.013457439983804626\n",
      "mo_sin_rcnt_rev_tl_op : 0.013128359975671175\n",
      "mths_since_rcnt_il : 0.01295105783914837\n",
      "mths_since_recent_inq : 0.01285558918855503\n",
      "num_il_tl : 0.011435402142817984\n",
      "mo_sin_rcnt_tl : 0.010844116611595452\n",
      "acc_open_past_24mths : 0.010767601595322208\n",
      "pct_tl_nvr_dlq : 0.010666334530824117\n",
      "num_rev_accts : 0.010510700723908837\n",
      "num_sats : 0.009589881857345649\n",
      "num_op_rev_tl : 0.00928499390113603\n",
      "num_bc_tl : 0.009178859793145214\n",
      "open_acc : 0.009064919125927242\n",
      "num_rev_tl_bal_gt_0 : 0.008830953141349547\n",
      "num_actv_rev_tl : 0.00840776586443842\n",
      "num_bc_sats : 0.008280647401761817\n",
      "percent_bc_gt_75 : 0.00816673596865867\n",
      "num_actv_bc_tl : 0.008098034886472911\n",
      "inq_last_12m : 0.007761304915336283\n",
      "open_rv_24m : 0.0076344178725222\n",
      "num_tl_op_past_12m : 0.0071101773269009625\n",
      "open_act_il : 0.007103361203139729\n",
      "open_il_24m : 0.006858947753970763\n",
      "inq_fi : 0.006819827093651913\n",
      "total_cu_tl : 0.006615732219835325\n",
      "mort_acc : 0.006313774171855715\n",
      "open_rv_12m : 0.005329316743403272\n",
      "open_acc_6m : 0.0043773773261536865\n",
      "tot_coll_amt : 0.0042316646745298\n",
      "open_il_12m : 0.00421247704882916\n",
      "inq_last_6mths : 0.004070093258434481\n",
      "num_accts_ever_120_pd : 0.0037742128954574134\n",
      "delinq_2yrs : 0.0026618414075796045\n",
      "home_ownership_MORTGAGE : 0.0023512862622993053\n",
      "verification_status_Not Verified : 0.0022721612786226275\n",
      "verification_status_Source Verified : 0.002211594198962536\n",
      "verification_status_Verified : 0.001985905665066315\n",
      "home_ownership_RENT : 0.001962277992215905\n",
      "home_ownership_OWN : 0.0017308997515945767\n",
      "pub_rec : 0.00166169086733199\n",
      "application_type_Joint App : 0.0015950134083056611\n",
      "pub_rec_bankruptcies : 0.0015493654321885682\n",
      "application_type_Individual : 0.0012986999791837232\n",
      "initial_list_status_f : 0.0012467062276079895\n",
      "initial_list_status_w : 0.0011919963953663539\n",
      "num_tl_90g_dpd_24m : 0.0009333764588156402\n",
      "collections_12_mths_ex_med : 0.0006731945050732023\n",
      "home_ownership_ANY : 0.0002927459668171006\n",
      "hardship_flag_Y : 0.00022026451962306633\n",
      "chargeoff_within_12_mths : 0.00019630114377981815\n",
      "hardship_flag_N : 9.496038943625501e-05\n",
      "delinq_amnt : 1.990253490451222e-05\n",
      "recoveries : 0.0\n",
      "collection_recovery_fee : 0.0\n",
      "policy_code : 0.0\n",
      "acc_now_delinq : 0.0\n",
      "num_tl_120dpd_2m : 0.0\n",
      "num_tl_30dpd : 0.0\n",
      "tax_liens : 0.0\n",
      "pymnt_plan_n : 0.0\n",
      "debt_settlement_flag_N : 0.0\n"
     ]
    }
   ],
   "source": [
    "print (\"Feature list in the order of importance\")\n",
    "print (\"---------------------------------------\")\n",
    "for i in range(len(features_list)):\n",
    "    print(f\"{features_list[i][0]} : {features_list[i][1]}\")\n"
   ]
  },
  {
   "cell_type": "code",
   "execution_count": 120,
   "metadata": {},
   "outputs": [
    {
     "data": {
      "text/html": [
       "<div>\n",
       "<style scoped>\n",
       "    .dataframe tbody tr th:only-of-type {\n",
       "        vertical-align: middle;\n",
       "    }\n",
       "\n",
       "    .dataframe tbody tr th {\n",
       "        vertical-align: top;\n",
       "    }\n",
       "\n",
       "    .dataframe thead th {\n",
       "        text-align: right;\n",
       "    }\n",
       "</style>\n",
       "<table border=\"1\" class=\"dataframe\">\n",
       "  <thead>\n",
       "    <tr style=\"text-align: right;\">\n",
       "      <th></th>\n",
       "      <th>Dataset</th>\n",
       "      <th>Logistic Reg UnScaled</th>\n",
       "      <th>Random Forest UnScaled</th>\n",
       "      <th>Logistic Reg Scaled</th>\n",
       "      <th>Random Forest Scaled</th>\n",
       "    </tr>\n",
       "  </thead>\n",
       "  <tbody>\n",
       "    <tr>\n",
       "      <th>0</th>\n",
       "      <td>2019loans(Training)</td>\n",
       "      <td>0.724534</td>\n",
       "      <td>1.000000</td>\n",
       "      <td>0.732008</td>\n",
       "      <td>1.000000</td>\n",
       "    </tr>\n",
       "    <tr>\n",
       "      <th>1</th>\n",
       "      <td>2020Q1loans(Testing)</td>\n",
       "      <td>0.491332</td>\n",
       "      <td>0.672445</td>\n",
       "      <td>0.754268</td>\n",
       "      <td>0.623851</td>\n",
       "    </tr>\n",
       "  </tbody>\n",
       "</table>\n",
       "</div>"
      ],
      "text/plain": [
       "                Dataset  Logistic Reg UnScaled  Random Forest UnScaled  \\\n",
       "0   2019loans(Training)               0.724534                1.000000   \n",
       "1  2020Q1loans(Testing)               0.491332                0.672445   \n",
       "\n",
       "   Logistic Reg Scaled  Random Forest Scaled  \n",
       "0             0.732008              1.000000  \n",
       "1             0.754268              0.623851  "
      ]
     },
     "execution_count": 120,
     "metadata": {},
     "output_type": "execute_result"
    }
   ],
   "source": [
    "final_results = pd.DataFrame(\n",
    "    data={'Dataset':['2019loans(Training)', '2020Q1loans(Testing)'], \\\n",
    "    'Logistic Reg UnScaled':[LR_US_Tr_scr,LR_US_Tst_scr],\\\n",
    "    'Random Forest UnScaled':[RF_US_Tr_scr,RF_US_Tst_scr],\\\n",
    "    'Logistic Reg Scaled':[LR_S_Tr_scr,LR_S_Tst_scr],\\\n",
    "    'Random Forest Scaled':[RF_S_Tr_scr,RF_S_Tst_scr]\\\n",
    "    })\n",
    "final_results   "
   ]
  },
  {
   "cell_type": "markdown",
   "metadata": {},
   "source": [
    "# Conclusions\n",
    "* After scaling the data, Logistic Regression outperformed Random Forest Classifier. \n",
    "    * 2020 First Quarter score for Logistic Regression : **0.754268** \n",
    "    * 2020 First Quarter score for Random Forest       : **0.613607** \n",
    "    \n",
    "#### LogisticRegression Model Performed well on this Data and we can conclude that it is the right Model to predict whether a loan from LendingClub will become high risk or not.    "
   ]
  }
 ],
 "metadata": {
  "interpreter": {
   "hash": "eb0a5deb85624cf39522bd9ea766efe3b585b85d5e69ded4a98e5c69611b9570"
  },
  "kernelspec": {
   "display_name": "Python 3.8.5 64-bit ('base': conda)",
   "name": "python3"
  },
  "language_info": {
   "codemirror_mode": {
    "name": "ipython",
    "version": 3
   },
   "file_extension": ".py",
   "mimetype": "text/x-python",
   "name": "python",
   "nbconvert_exporter": "python",
   "pygments_lexer": "ipython3",
   "version": "3.8.5"
  }
 },
 "nbformat": 4,
 "nbformat_minor": 4
}
